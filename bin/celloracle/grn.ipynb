{
 "cells": [
  {
   "cell_type": "markdown",
   "metadata": {},
   "source": [
    "# CellOracle GRN"
   ]
  },
  {
   "cell_type": "markdown",
   "metadata": {},
   "source": [
    "# Set-up"
   ]
  },
  {
   "cell_type": "code",
   "execution_count": 1,
   "metadata": {},
   "outputs": [
    {
     "name": "stdout",
     "output_type": "stream",
     "text": [
      "The history saving thread hit an unexpected error (DatabaseError('database disk image is malformed')).History will not be written to the database.\n"
     ]
    },
    {
     "name": "stderr",
     "output_type": "stream",
     "text": [
      "/cellar/users/aklie/opt/miniconda3/envs/test_celloracle/lib/python3.10/site-packages/loompy/bus_file.py:68: NumbaDeprecationWarning: \u001b[1mThe 'nopython' keyword argument was not supplied to the 'numba.jit' decorator. The implicit default value for this argument is currently False, but it will be changed to True in Numba 0.59.0. See https://numba.readthedocs.io/en/stable/reference/deprecation.html#deprecation-of-object-mode-fall-back-behaviour-when-using-jit for details.\u001b[0m\n",
      "  def twobit_to_dna(twobit: int, size: int) -> str:\n",
      "/cellar/users/aklie/opt/miniconda3/envs/test_celloracle/lib/python3.10/site-packages/loompy/bus_file.py:85: NumbaDeprecationWarning: \u001b[1mThe 'nopython' keyword argument was not supplied to the 'numba.jit' decorator. The implicit default value for this argument is currently False, but it will be changed to True in Numba 0.59.0. See https://numba.readthedocs.io/en/stable/reference/deprecation.html#deprecation-of-object-mode-fall-back-behaviour-when-using-jit for details.\u001b[0m\n",
      "  def dna_to_twobit(dna: str) -> int:\n",
      "/cellar/users/aklie/opt/miniconda3/envs/test_celloracle/lib/python3.10/site-packages/loompy/bus_file.py:102: NumbaDeprecationWarning: \u001b[1mThe 'nopython' keyword argument was not supplied to the 'numba.jit' decorator. The implicit default value for this argument is currently False, but it will be changed to True in Numba 0.59.0. See https://numba.readthedocs.io/en/stable/reference/deprecation.html#deprecation-of-object-mode-fall-back-behaviour-when-using-jit for details.\u001b[0m\n",
      "  def twobit_1hamming(twobit: int, size: int) -> List[int]:\n",
      "which: no R in (/cellar/users/aklie/opt/gdc-client:/cellar/users/aklie/opt/meme/bin:/cellar/users/aklie/opt/meme/libexec/meme-5.5.0:/cellar/users/aklie/opt/apache-ant-1.10.12/bin:/cellar/users/aklie/opt/deltasvm_script/deltasvm.pl:/cellar/users/aklie/opt/lsgkm-svr/bin:/cellar/users/aklie/opt/gatk-4.2.6.1:/cellar/users/mpagadal/Programs/PRSICE/PRSice.R:/cellar/users/aklie/opt/plink:/cellar/users/aklie/opt/plink2:/cellar/users/aklie/opt/confusion_matrix:/cellar/users/aklie/bin/motif_finding.sh:/cellar/users/aklie/opt/edirect:/cellar/users/aklie/opt/ucsc:/cellar/users/mpagadal/Programs/bcftools-1.11:/cellar/users/aklie/opt/homer/bin:/cellar/users/aklie/opt/Gene2vec/src:/cellar/users/aklie/opt:/cellar/users/aklie/.local/bin:/cellar/users/aklie/opt/cellranger-arc-2.0.2:/cellar/users/aklie/opt/cellranger-atac-2.1.0:/cellar/users/aklie/opt/cellranger-7.1.0:/cellar/users/aklie/opt/ml4gland/basenji/bin:/cellar/users/aklie/.vscode-server-insiders/bin/f6be5461f8bc69013a605f5baea834651c6589fb/bin/remote-cli:/cellar/users/aklie/opt/gdc-client:/cellar/users/aklie/opt/meme/bin:/cellar/users/aklie/opt/meme/libexec/meme-5.5.0:/cellar/users/aklie/opt/apache-ant-1.10.12/bin:/cellar/users/aklie/opt/deltasvm_script/deltasvm.pl:/cellar/users/aklie/opt/lsgkm-svr/bin:/cellar/users/aklie/opt/gatk-4.2.6.1:/cellar/users/mpagadal/Programs/PRSICE/PRSice.R:/cellar/users/aklie/opt/plink:/cellar/users/aklie/opt/plink2:/cellar/users/aklie/opt/confusion_matrix:/cellar/users/aklie/bin/motif_finding.sh:/cellar/users/aklie/opt/edirect:/cellar/users/aklie/opt/ucsc:/cellar/users/mpagadal/Programs/bcftools-1.11:/cellar/users/aklie/opt/homer/bin:/cellar/users/aklie/opt/Gene2vec/src:/cellar/users/aklie/opt:/cellar/users/aklie/.local/bin:/cellar/users/aklie/opt/cellranger-arc-2.0.2:/cellar/users/aklie/opt/cellranger-atac-2.1.0:/cellar/users/aklie/opt/cellranger-7.1.0:/cellar/users/aklie/opt/ml4gland/basenji/bin:/cm/local/apps/environment-modules/4.5.3/bin:/cellar/users/aklie/.cargo/bin:/cellar/users/aklie/opt/google-cloud-sdk/bin:/cellar/users/aklie/opt/miniconda3/bin:/cellar/users/aklie/opt/miniconda3/condabin:/cellar/users/aklie/opt/gdc-client:/cellar/users/aklie/opt/meme/bin:/cellar/users/aklie/opt/meme/libexec/meme-5.5.0:/cellar/users/aklie/opt/apache-ant-1.10.12/bin:/cellar/users/aklie/opt/deltasvm_script/deltasvm.pl:/cellar/users/aklie/opt/lsgkm-svr/bin:/cellar/users/aklie/opt/gatk-4.2.6.1:/cellar/users/mpagadal/Programs/PRSICE/PRSice.R:/cellar/users/aklie/opt/plink:/cellar/users/aklie/opt/plink2:/cellar/users/aklie/opt/confusion_matrix:/cellar/users/aklie/bin/motif_finding.sh:/cellar/users/aklie/opt/edirect:/cellar/users/aklie/opt/ucsc:/cellar/users/mpagadal/Programs/bcftools-1.11:/cellar/users/aklie/opt/homer/bin:/cellar/users/aklie/opt/Gene2vec/src:/cellar/users/aklie/opt:/cellar/users/aklie/.local/bin:/cellar/users/aklie/opt/cellranger-arc-2.0.2:/cellar/users/aklie/opt/cellranger-atac-2.1.0:/cellar/users/aklie/opt/cellranger-7.1.0:/cellar/users/aklie/opt/ml4gland/basenji/bin:/cm/local/apps/jupyter-submit:/cm/shared/apps/slurm/current/sbin:/cm/shared/apps/slurm/current/bin:/cm/local/apps/environment-modules/4.5.3/bin:/usr/local/bin:/usr/bin:/usr/local/sbin:/usr/sbin:/sbin:/usr/sbin:/cm/local/apps/environment-modules/4.5.3/bin:/opt/dell/srvadmin/bin:/cellar/users/aklie/opt/Mallet-202108/bin:/cellar/users/aklie/.pixi/bin:/cellar/users/aklie/opt/Mallet-202108/bin:/cellar/users/aklie/.pixi/bin:/cellar/users/aklie/opt/Mallet-202108/bin)\n"
     ]
    }
   ],
   "source": [
    "import pandas as pd\n",
    "import muon as mu\n",
    "import scanpy as sc\n",
    "import celloracle as co\n",
    "import numpy as np\n",
    "import matplotlib.pyplot as plt"
   ]
  },
  {
   "cell_type": "code",
   "execution_count": 114,
   "metadata": {},
   "outputs": [],
   "source": [
    "# Load args\n",
    "path_data = \"/cellar/users/aklie/data/datasets/paul15/annotated/Paul_etal_15.h5mu\"\n",
    "path_r2g = None\n",
    "path_tf2r = None\n",
    "path_base_grn = \"/cellar/users/aklie/opt/gene_program_evaluation/src/inference/grn_models/celloracle/resources/base_grns/mm9_mouse_atac_atlas_data_TSS_and_cicero_0.9_accum_threshold_10.5_DF_peaks_by_TFs_v202204.parquet\"\n",
    "path_additional_grn = \"/cellar/users/aklie/data/datasets/paul15/ref/TF_data_in_Paul15.csv\"\n",
    "cluster_key = \"louvain_annot\"\n",
    "layer = \"imputed_count\"\n",
    "alpha = 10\n",
    "bagging_number = 20\n",
    "scale = True\n",
    "path_out = \"/cellar/users/aklie/data/datasets/paul15/analysis/celloracle/grn.csv\""
   ]
  },
  {
   "cell_type": "markdown",
   "metadata": {},
   "source": [
    "# Prep base GRN"
   ]
  },
  {
   "cell_type": "code",
   "execution_count": 116,
   "metadata": {},
   "outputs": [
    {
     "name": "stdout",
     "output_type": "stream",
     "text": [
      "Loading base GRN\n"
     ]
    },
    {
     "data": {
      "application/vnd.jupyter.widget-view+json": {
       "model_id": "8a99a288a8f748bdbd103c53541e9a89",
       "version_major": 2,
       "version_minor": 0
      },
      "text/plain": [
       "  0%|          | 0/178 [00:00<?, ?it/s]"
      ]
     },
     "metadata": {},
     "output_type": "display_data"
    }
   ],
   "source": [
    "# Process base GRN\n",
    "if path_base_grn:\n",
    "    print(\"Loading base GRN\")\n",
    "    base_grn = pd.read_parquet(path_base_grn)\n",
    "else:\n",
    "    r2g = pd.read_csv(path_r2g)\n",
    "    tfb = pd.read_csv(path_tf2r)\n",
    "    if (r2g.shape[0] == 0) or (tfb.shape[0] == 0):\n",
    "        grn = pd.DataFrame(columns=['source', 'target', 'score', 'pval'])\n",
    "        grn.to_csv(path_out, index=False)\n",
    "        exit()\n",
    "    tfb['score'] = 1\n",
    "    r2g = r2g[['cre', 'gene']]\n",
    "    base_grn = pd.merge(\n",
    "        r2g,\n",
    "        tfb\n",
    "        .pivot(index='cre', columns='tf')\n",
    "        .fillna(0)\n",
    "        .droplevel(0, axis=1)\n",
    "        .reset_index()\n",
    "    )\n",
    "    base_grn = base_grn.rename(columns={'cre': 'peak_id', 'gene': 'gene_short_name'})\n",
    "    base_grn['peak_id'] = base_grn['peak_id'].str.replace('-', '_')\n",
    "    \n",
    "# Make dictionary to add: dictionary key is TF and dictionary value is list of target genes.\n",
    "if path_additional_grn:\n",
    "    Paul_15_data = pd.read_csv(path_additional_grn)\n",
    "    TF_to_TG_dictionary = {}\n",
    "\n",
    "    for TF, TGs in zip(Paul_15_data.TF, Paul_15_data.Target_genes):\n",
    "        # convert target gene to list\n",
    "        TG_list = TGs.replace(\" \", \"\").split(\",\")\n",
    "        # store target gene list in a dictionary\n",
    "        TF_to_TG_dictionary[TF] = TG_list\n",
    "\n",
    "    # We invert the dictionary above using a utility function in celloracle.\n",
    "    TG_to_TF_dictionary = co.utility.inverse_dictionary(TF_to_TG_dictionary)\n",
    "else:\n",
    "    TG_to_TF_dictionary = None"
   ]
  },
  {
   "cell_type": "markdown",
   "metadata": {},
   "source": [
    "# Set-up GEM"
   ]
  },
  {
   "cell_type": "code",
   "execution_count": 117,
   "metadata": {},
   "outputs": [
    {
     "name": "stdout",
     "output_type": "stream",
     "text": [
      "Using data in layer imputed_count for regression.\n"
     ]
    }
   ],
   "source": [
    "# Init object\n",
    "mdata = mu.read(path_data)\n",
    "adata = mdata.mod[\"rna\"].copy()\n",
    "adata.obs[cluster_key] = mdata.obs[cluster_key].copy()\n",
    "if layer in adata.layers:\n",
    "    print(f\"Using data in layer {layer} for regression.\")\n",
    "    adata.X = adata.layers[layer].copy()\n",
    "else:\n",
    "    print(f\"Could not find layer {layer}. Loading from CellOracle.\")\n",
    "    adata = co.data.load_Paul2015_data()\n",
    "\n",
    "    # Instantiate Oracle object\n",
    "    oracle = co.Oracle()\n",
    "\n",
    "    # In this notebook, we use the unscaled mRNA count for the input of Oracle object.\n",
    "    adata.X = adata.layers[\"raw_count\"].copy()\n",
    "\n",
    "    # Instantiate Oracle object.\n",
    "    oracle.import_anndata_as_raw_count(adata=adata,\n",
    "                                    cluster_column_name=\"louvain_annot\",\n",
    "                                    embedding_name=\"X_draw_graph_fa\")\n",
    "\n",
    "    # Add base GRN\n",
    "    oracle.import_TF_data(TF_info_matrix=base_grn)\n",
    "\n",
    "    # Perform PCA\n",
    "    oracle.perform_PCA()\n",
    "\n",
    "    # Select important PCs\n",
    "    n_comps = np.where(np.diff(np.diff(np.cumsum(oracle.pca.explained_variance_ratio_))>0.002))[0][0]\n",
    "    n_comps = min(n_comps, 50)\n",
    "\n",
    "    # Perform knn imputation\n",
    "    n_cell = oracle.adata.shape[0]\n",
    "    k = int(0.025*n_cell)\n",
    "    oracle.knn_imputation(n_pca_dims=n_comps, k=k, balanced=True, b_sight=k*8, b_maxl=k*4, n_jobs=4)\n",
    "\n",
    "    # Grab adata\n",
    "    adata = oracle.adata\n",
    "    adata.X = adata.layers[\"imputed_count\"].copy()"
   ]
  },
  {
   "cell_type": "markdown",
   "metadata": {},
   "source": [
    "# Build GRN manually"
   ]
  },
  {
   "cell_type": "code",
   "execution_count": 118,
   "metadata": {},
   "outputs": [
    {
     "name": "stdout",
     "output_type": "stream",
     "text": [
      "Building GRN for Ery_0\n",
      "initiating Net object ...\n",
      "gem_shape: (73, 1999)\n",
      "TF info shape: (91976, 1095)\n",
      "initiation completed.\n",
      "Adding additional TF-TG pairs to the base GRN\n"
     ]
    },
    {
     "data": {
      "application/vnd.jupyter.widget-view+json": {
       "model_id": "5292ff7f566e4022bd423d1f1d1135b8",
       "version_major": 2,
       "version_minor": 0
      },
      "text/plain": [
       "  0%|          | 0/1849 [00:00<?, ?it/s]"
      ]
     },
     "metadata": {},
     "output_type": "display_data"
    },
    {
     "data": {
      "application/vnd.jupyter.widget-view+json": {
       "model_id": "9d92578527084c708065c6de56398d34",
       "version_major": 2,
       "version_minor": 0
      },
      "text/plain": [
       "  0%|          | 0/1847 [00:00<?, ?it/s]"
      ]
     },
     "metadata": {},
     "output_type": "display_data"
    },
    {
     "name": "stdout",
     "output_type": "stream",
     "text": [
      "Finished building GRN for Ery_0\n",
      "Building GRN for Ery_1\n",
      "initiating Net object ...\n",
      "gem_shape: (138, 1999)\n",
      "TF info shape: (91976, 1095)\n",
      "initiation completed.\n",
      "Adding additional TF-TG pairs to the base GRN\n"
     ]
    },
    {
     "data": {
      "application/vnd.jupyter.widget-view+json": {
       "model_id": "69ca288c16b04de4a9bbb0d0f0eaf4d0",
       "version_major": 2,
       "version_minor": 0
      },
      "text/plain": [
       "  0%|          | 0/1849 [00:00<?, ?it/s]"
      ]
     },
     "metadata": {},
     "output_type": "display_data"
    },
    {
     "data": {
      "application/vnd.jupyter.widget-view+json": {
       "model_id": "ab2708f1c5d54482afb922657f48930c",
       "version_major": 2,
       "version_minor": 0
      },
      "text/plain": [
       "  0%|          | 0/1847 [00:00<?, ?it/s]"
      ]
     },
     "metadata": {},
     "output_type": "display_data"
    },
    {
     "name": "stdout",
     "output_type": "stream",
     "text": [
      "Finished building GRN for Ery_1\n",
      "Building GRN for Ery_2\n",
      "initiating Net object ...\n",
      "gem_shape: (86, 1999)\n",
      "TF info shape: (91976, 1095)\n",
      "initiation completed.\n",
      "Adding additional TF-TG pairs to the base GRN\n"
     ]
    },
    {
     "data": {
      "application/vnd.jupyter.widget-view+json": {
       "model_id": "50c01858c0e744c29465e2e89649dee4",
       "version_major": 2,
       "version_minor": 0
      },
      "text/plain": [
       "  0%|          | 0/1849 [00:00<?, ?it/s]"
      ]
     },
     "metadata": {},
     "output_type": "display_data"
    },
    {
     "data": {
      "application/vnd.jupyter.widget-view+json": {
       "model_id": "d12ea0754da54dffb0d0e902f4a058b7",
       "version_major": 2,
       "version_minor": 0
      },
      "text/plain": [
       "  0%|          | 0/1847 [00:00<?, ?it/s]"
      ]
     },
     "metadata": {},
     "output_type": "display_data"
    },
    {
     "name": "stdout",
     "output_type": "stream",
     "text": [
      "Finished building GRN for Ery_2\n",
      "Building GRN for Ery_3\n",
      "initiating Net object ...\n",
      "gem_shape: (111, 1999)\n",
      "TF info shape: (91976, 1095)\n",
      "initiation completed.\n",
      "Adding additional TF-TG pairs to the base GRN\n"
     ]
    },
    {
     "data": {
      "application/vnd.jupyter.widget-view+json": {
       "model_id": "6a5cf47724d9454dbee3b6f8e05b53f4",
       "version_major": 2,
       "version_minor": 0
      },
      "text/plain": [
       "  0%|          | 0/1849 [00:00<?, ?it/s]"
      ]
     },
     "metadata": {},
     "output_type": "display_data"
    },
    {
     "data": {
      "application/vnd.jupyter.widget-view+json": {
       "model_id": "59722771faa740da8117d412138b9418",
       "version_major": 2,
       "version_minor": 0
      },
      "text/plain": [
       "  0%|          | 0/1847 [00:00<?, ?it/s]"
      ]
     },
     "metadata": {},
     "output_type": "display_data"
    },
    {
     "name": "stdout",
     "output_type": "stream",
     "text": [
      "Finished building GRN for Ery_3\n",
      "Building GRN for Ery_4\n",
      "initiating Net object ...\n",
      "gem_shape: (162, 1999)\n",
      "TF info shape: (91976, 1095)\n",
      "initiation completed.\n",
      "Adding additional TF-TG pairs to the base GRN\n"
     ]
    },
    {
     "data": {
      "application/vnd.jupyter.widget-view+json": {
       "model_id": "36128d46db864980ab537162e8db82f5",
       "version_major": 2,
       "version_minor": 0
      },
      "text/plain": [
       "  0%|          | 0/1849 [00:00<?, ?it/s]"
      ]
     },
     "metadata": {},
     "output_type": "display_data"
    },
    {
     "data": {
      "application/vnd.jupyter.widget-view+json": {
       "model_id": "09d5fad2dc5c4032b4a3031e363b95f4",
       "version_major": 2,
       "version_minor": 0
      },
      "text/plain": [
       "  0%|          | 0/1847 [00:00<?, ?it/s]"
      ]
     },
     "metadata": {},
     "output_type": "display_data"
    },
    {
     "name": "stdout",
     "output_type": "stream",
     "text": [
      "Finished building GRN for Ery_4\n",
      "Building GRN for Ery_5\n",
      "initiating Net object ...\n",
      "gem_shape: (67, 1999)\n",
      "TF info shape: (91976, 1095)\n",
      "initiation completed.\n",
      "Adding additional TF-TG pairs to the base GRN\n"
     ]
    },
    {
     "data": {
      "application/vnd.jupyter.widget-view+json": {
       "model_id": "f37efc0e78304ea3aae5b447b0385e66",
       "version_major": 2,
       "version_minor": 0
      },
      "text/plain": [
       "  0%|          | 0/1849 [00:00<?, ?it/s]"
      ]
     },
     "metadata": {},
     "output_type": "display_data"
    },
    {
     "data": {
      "application/vnd.jupyter.widget-view+json": {
       "model_id": "364c819568394fcfaff4f312d66cb51d",
       "version_major": 2,
       "version_minor": 0
      },
      "text/plain": [
       "  0%|          | 0/1847 [00:00<?, ?it/s]"
      ]
     },
     "metadata": {},
     "output_type": "display_data"
    },
    {
     "name": "stdout",
     "output_type": "stream",
     "text": [
      "Finished building GRN for Ery_5\n",
      "Building GRN for Ery_6\n",
      "initiating Net object ...\n",
      "gem_shape: (80, 1999)\n",
      "TF info shape: (91976, 1095)\n",
      "initiation completed.\n",
      "Adding additional TF-TG pairs to the base GRN\n"
     ]
    },
    {
     "data": {
      "application/vnd.jupyter.widget-view+json": {
       "model_id": "334222e6fb304eaeb4d8855fd4a0840b",
       "version_major": 2,
       "version_minor": 0
      },
      "text/plain": [
       "  0%|          | 0/1849 [00:00<?, ?it/s]"
      ]
     },
     "metadata": {},
     "output_type": "display_data"
    },
    {
     "data": {
      "application/vnd.jupyter.widget-view+json": {
       "model_id": "a19252fcaa3e4c8094ebb10ec6101d63",
       "version_major": 2,
       "version_minor": 0
      },
      "text/plain": [
       "  0%|          | 0/1847 [00:00<?, ?it/s]"
      ]
     },
     "metadata": {},
     "output_type": "display_data"
    },
    {
     "name": "stdout",
     "output_type": "stream",
     "text": [
      "Finished building GRN for Ery_6\n",
      "Building GRN for Ery_7\n",
      "initiating Net object ...\n",
      "gem_shape: (190, 1999)\n",
      "TF info shape: (91976, 1095)\n",
      "initiation completed.\n",
      "Adding additional TF-TG pairs to the base GRN\n"
     ]
    },
    {
     "data": {
      "application/vnd.jupyter.widget-view+json": {
       "model_id": "2be16a8444e34714ac0ba953e6dd2fc6",
       "version_major": 2,
       "version_minor": 0
      },
      "text/plain": [
       "  0%|          | 0/1849 [00:00<?, ?it/s]"
      ]
     },
     "metadata": {},
     "output_type": "display_data"
    },
    {
     "data": {
      "application/vnd.jupyter.widget-view+json": {
       "model_id": "9dabbde29b7c414f945ff641b1c392fa",
       "version_major": 2,
       "version_minor": 0
      },
      "text/plain": [
       "  0%|          | 0/1847 [00:00<?, ?it/s]"
      ]
     },
     "metadata": {},
     "output_type": "display_data"
    },
    {
     "name": "stdout",
     "output_type": "stream",
     "text": [
      "Finished building GRN for Ery_7\n",
      "Building GRN for Ery_8\n",
      "initiating Net object ...\n",
      "gem_shape: (108, 1999)\n",
      "TF info shape: (91976, 1095)\n",
      "initiation completed.\n",
      "Adding additional TF-TG pairs to the base GRN\n"
     ]
    },
    {
     "data": {
      "application/vnd.jupyter.widget-view+json": {
       "model_id": "9b12b2d9382940e9ad2143b0751e0161",
       "version_major": 2,
       "version_minor": 0
      },
      "text/plain": [
       "  0%|          | 0/1849 [00:00<?, ?it/s]"
      ]
     },
     "metadata": {},
     "output_type": "display_data"
    },
    {
     "data": {
      "application/vnd.jupyter.widget-view+json": {
       "model_id": "e559ad28e79b411494f7c171b2b607c5",
       "version_major": 2,
       "version_minor": 0
      },
      "text/plain": [
       "  0%|          | 0/1847 [00:00<?, ?it/s]"
      ]
     },
     "metadata": {},
     "output_type": "display_data"
    },
    {
     "name": "stdout",
     "output_type": "stream",
     "text": [
      "Finished building GRN for Ery_8\n",
      "Building GRN for Ery_9\n",
      "initiating Net object ...\n",
      "gem_shape: (78, 1999)\n",
      "TF info shape: (91976, 1095)\n",
      "initiation completed.\n",
      "Adding additional TF-TG pairs to the base GRN\n"
     ]
    },
    {
     "data": {
      "application/vnd.jupyter.widget-view+json": {
       "model_id": "1929fa4920754b29842c90362df18b7f",
       "version_major": 2,
       "version_minor": 0
      },
      "text/plain": [
       "  0%|          | 0/1849 [00:00<?, ?it/s]"
      ]
     },
     "metadata": {},
     "output_type": "display_data"
    },
    {
     "data": {
      "application/vnd.jupyter.widget-view+json": {
       "model_id": "6998a202bc364300a183de30e4bf7dcf",
       "version_major": 2,
       "version_minor": 0
      },
      "text/plain": [
       "  0%|          | 0/1847 [00:00<?, ?it/s]"
      ]
     },
     "metadata": {},
     "output_type": "display_data"
    },
    {
     "name": "stdout",
     "output_type": "stream",
     "text": [
      "Finished building GRN for Ery_9\n",
      "Building GRN for GMP_0\n",
      "initiating Net object ...\n",
      "gem_shape: (89, 1999)\n",
      "TF info shape: (91976, 1095)\n",
      "initiation completed.\n",
      "Adding additional TF-TG pairs to the base GRN\n"
     ]
    },
    {
     "data": {
      "application/vnd.jupyter.widget-view+json": {
       "model_id": "8734ea812cdc4422ba8730a41594c2ba",
       "version_major": 2,
       "version_minor": 0
      },
      "text/plain": [
       "  0%|          | 0/1849 [00:00<?, ?it/s]"
      ]
     },
     "metadata": {},
     "output_type": "display_data"
    },
    {
     "data": {
      "application/vnd.jupyter.widget-view+json": {
       "model_id": "f0fd505c043946808f9d569d14dc03f1",
       "version_major": 2,
       "version_minor": 0
      },
      "text/plain": [
       "  0%|          | 0/1847 [00:00<?, ?it/s]"
      ]
     },
     "metadata": {},
     "output_type": "display_data"
    },
    {
     "name": "stdout",
     "output_type": "stream",
     "text": [
      "Finished building GRN for GMP_0\n",
      "Building GRN for GMP_1\n",
      "initiating Net object ...\n",
      "gem_shape: (115, 1999)\n",
      "TF info shape: (91976, 1095)\n",
      "initiation completed.\n",
      "Adding additional TF-TG pairs to the base GRN\n"
     ]
    },
    {
     "data": {
      "application/vnd.jupyter.widget-view+json": {
       "model_id": "69fd9be924fa4a95869e10b6f7ee7365",
       "version_major": 2,
       "version_minor": 0
      },
      "text/plain": [
       "  0%|          | 0/1849 [00:00<?, ?it/s]"
      ]
     },
     "metadata": {},
     "output_type": "display_data"
    },
    {
     "data": {
      "application/vnd.jupyter.widget-view+json": {
       "model_id": "cf0549a860d34f23aae3662300217b40",
       "version_major": 2,
       "version_minor": 0
      },
      "text/plain": [
       "  0%|          | 0/1847 [00:00<?, ?it/s]"
      ]
     },
     "metadata": {},
     "output_type": "display_data"
    },
    {
     "name": "stdout",
     "output_type": "stream",
     "text": [
      "Finished building GRN for GMP_1\n",
      "Building GRN for GMP_2\n",
      "initiating Net object ...\n",
      "gem_shape: (115, 1999)\n",
      "TF info shape: (91976, 1095)\n",
      "initiation completed.\n",
      "Adding additional TF-TG pairs to the base GRN\n"
     ]
    },
    {
     "data": {
      "application/vnd.jupyter.widget-view+json": {
       "model_id": "2110db6d21aa49eea8094664dbc00aba",
       "version_major": 2,
       "version_minor": 0
      },
      "text/plain": [
       "  0%|          | 0/1849 [00:00<?, ?it/s]"
      ]
     },
     "metadata": {},
     "output_type": "display_data"
    },
    {
     "data": {
      "application/vnd.jupyter.widget-view+json": {
       "model_id": "3a05f808a8e14d75a935acbb67189f47",
       "version_major": 2,
       "version_minor": 0
      },
      "text/plain": [
       "  0%|          | 0/1847 [00:00<?, ?it/s]"
      ]
     },
     "metadata": {},
     "output_type": "display_data"
    },
    {
     "name": "stdout",
     "output_type": "stream",
     "text": [
      "Finished building GRN for GMP_2\n",
      "Building GRN for GMPl_0\n",
      "initiating Net object ...\n",
      "gem_shape: (189, 1999)\n",
      "TF info shape: (91976, 1095)\n",
      "initiation completed.\n",
      "Adding additional TF-TG pairs to the base GRN\n"
     ]
    },
    {
     "data": {
      "application/vnd.jupyter.widget-view+json": {
       "model_id": "20b32c282bc04142a097e514864c85f1",
       "version_major": 2,
       "version_minor": 0
      },
      "text/plain": [
       "  0%|          | 0/1849 [00:00<?, ?it/s]"
      ]
     },
     "metadata": {},
     "output_type": "display_data"
    },
    {
     "data": {
      "application/vnd.jupyter.widget-view+json": {
       "model_id": "8045b2c96aea4c629819f6837ec63a0d",
       "version_major": 2,
       "version_minor": 0
      },
      "text/plain": [
       "  0%|          | 0/1847 [00:00<?, ?it/s]"
      ]
     },
     "metadata": {},
     "output_type": "display_data"
    },
    {
     "name": "stdout",
     "output_type": "stream",
     "text": [
      "Finished building GRN for GMPl_0\n",
      "Building GRN for GMPl_1\n",
      "initiating Net object ...\n",
      "gem_shape: (57, 1999)\n",
      "TF info shape: (91976, 1095)\n",
      "initiation completed.\n",
      "Adding additional TF-TG pairs to the base GRN\n"
     ]
    },
    {
     "data": {
      "application/vnd.jupyter.widget-view+json": {
       "model_id": "88956786ef4b4f00aaab0f1cd604ad5a",
       "version_major": 2,
       "version_minor": 0
      },
      "text/plain": [
       "  0%|          | 0/1849 [00:00<?, ?it/s]"
      ]
     },
     "metadata": {},
     "output_type": "display_data"
    },
    {
     "data": {
      "application/vnd.jupyter.widget-view+json": {
       "model_id": "32a10b46acb54349b5013b26760dc8d4",
       "version_major": 2,
       "version_minor": 0
      },
      "text/plain": [
       "  0%|          | 0/1847 [00:00<?, ?it/s]"
      ]
     },
     "metadata": {},
     "output_type": "display_data"
    },
    {
     "name": "stdout",
     "output_type": "stream",
     "text": [
      "Finished building GRN for GMPl_1\n",
      "Building GRN for Gran_0\n",
      "initiating Net object ...\n",
      "gem_shape: (139, 1999)\n",
      "TF info shape: (91976, 1095)\n",
      "initiation completed.\n",
      "Adding additional TF-TG pairs to the base GRN\n"
     ]
    },
    {
     "data": {
      "application/vnd.jupyter.widget-view+json": {
       "model_id": "9af1a1aa25ee465fa7f2b12d88e8b9a0",
       "version_major": 2,
       "version_minor": 0
      },
      "text/plain": [
       "  0%|          | 0/1849 [00:00<?, ?it/s]"
      ]
     },
     "metadata": {},
     "output_type": "display_data"
    },
    {
     "data": {
      "application/vnd.jupyter.widget-view+json": {
       "model_id": "601448764d974d7099247d3b02ab4d7c",
       "version_major": 2,
       "version_minor": 0
      },
      "text/plain": [
       "  0%|          | 0/1847 [00:00<?, ?it/s]"
      ]
     },
     "metadata": {},
     "output_type": "display_data"
    },
    {
     "name": "stdout",
     "output_type": "stream",
     "text": [
      "Finished building GRN for Gran_0\n",
      "Building GRN for Gran_1\n",
      "initiating Net object ...\n",
      "gem_shape: (103, 1999)\n",
      "TF info shape: (91976, 1095)\n",
      "initiation completed.\n",
      "Adding additional TF-TG pairs to the base GRN\n"
     ]
    },
    {
     "data": {
      "application/vnd.jupyter.widget-view+json": {
       "model_id": "9d2400f8146f43db967f570bc158e9b6",
       "version_major": 2,
       "version_minor": 0
      },
      "text/plain": [
       "  0%|          | 0/1849 [00:00<?, ?it/s]"
      ]
     },
     "metadata": {},
     "output_type": "display_data"
    },
    {
     "data": {
      "application/vnd.jupyter.widget-view+json": {
       "model_id": "3ee98b2be36e4d72bc17eb812b47d995",
       "version_major": 2,
       "version_minor": 0
      },
      "text/plain": [
       "  0%|          | 0/1847 [00:00<?, ?it/s]"
      ]
     },
     "metadata": {},
     "output_type": "display_data"
    },
    {
     "name": "stdout",
     "output_type": "stream",
     "text": [
      "Finished building GRN for Gran_1\n",
      "Building GRN for Gran_2\n",
      "initiating Net object ...\n",
      "gem_shape: (141, 1999)\n",
      "TF info shape: (91976, 1095)\n",
      "initiation completed.\n",
      "Adding additional TF-TG pairs to the base GRN\n"
     ]
    },
    {
     "data": {
      "application/vnd.jupyter.widget-view+json": {
       "model_id": "0a2ec06328cf4067b31b906ec01ba5bf",
       "version_major": 2,
       "version_minor": 0
      },
      "text/plain": [
       "  0%|          | 0/1849 [00:00<?, ?it/s]"
      ]
     },
     "metadata": {},
     "output_type": "display_data"
    },
    {
     "data": {
      "application/vnd.jupyter.widget-view+json": {
       "model_id": "0938f892d77544ddb87d3b9812758158",
       "version_major": 2,
       "version_minor": 0
      },
      "text/plain": [
       "  0%|          | 0/1847 [00:00<?, ?it/s]"
      ]
     },
     "metadata": {},
     "output_type": "display_data"
    },
    {
     "name": "stdout",
     "output_type": "stream",
     "text": [
      "Finished building GRN for Gran_2\n",
      "Building GRN for Gran_3\n",
      "initiating Net object ...\n",
      "gem_shape: (25, 1999)\n",
      "TF info shape: (91976, 1095)\n",
      "initiation completed.\n",
      "Adding additional TF-TG pairs to the base GRN\n"
     ]
    },
    {
     "data": {
      "application/vnd.jupyter.widget-view+json": {
       "model_id": "93401f4123c5449abc3470c2ecbdef47",
       "version_major": 2,
       "version_minor": 0
      },
      "text/plain": [
       "  0%|          | 0/1849 [00:00<?, ?it/s]"
      ]
     },
     "metadata": {},
     "output_type": "display_data"
    },
    {
     "data": {
      "application/vnd.jupyter.widget-view+json": {
       "model_id": "586aa34cd6b449ae8472f01287100bf1",
       "version_major": 2,
       "version_minor": 0
      },
      "text/plain": [
       "  0%|          | 0/1847 [00:00<?, ?it/s]"
      ]
     },
     "metadata": {},
     "output_type": "display_data"
    },
    {
     "name": "stdout",
     "output_type": "stream",
     "text": [
      "Finished building GRN for Gran_3\n",
      "Building GRN for MEP_0\n",
      "initiating Net object ...\n",
      "gem_shape: (165, 1999)\n",
      "TF info shape: (91976, 1095)\n",
      "initiation completed.\n",
      "Adding additional TF-TG pairs to the base GRN\n"
     ]
    },
    {
     "data": {
      "application/vnd.jupyter.widget-view+json": {
       "model_id": "e33a4c2082cc47ea8f925fe1a271e774",
       "version_major": 2,
       "version_minor": 0
      },
      "text/plain": [
       "  0%|          | 0/1849 [00:00<?, ?it/s]"
      ]
     },
     "metadata": {},
     "output_type": "display_data"
    },
    {
     "data": {
      "application/vnd.jupyter.widget-view+json": {
       "model_id": "5fe4ab2a3999442f9cbcb0c7b801c6db",
       "version_major": 2,
       "version_minor": 0
      },
      "text/plain": [
       "  0%|          | 0/1847 [00:00<?, ?it/s]"
      ]
     },
     "metadata": {},
     "output_type": "display_data"
    },
    {
     "name": "stdout",
     "output_type": "stream",
     "text": [
      "Finished building GRN for MEP_0\n",
      "Building GRN for Mk_0\n",
      "initiating Net object ...\n",
      "gem_shape: (86, 1999)\n",
      "TF info shape: (91976, 1095)\n",
      "initiation completed.\n",
      "Adding additional TF-TG pairs to the base GRN\n"
     ]
    },
    {
     "data": {
      "application/vnd.jupyter.widget-view+json": {
       "model_id": "cc653fe05d5549dd84b1bb759390bf10",
       "version_major": 2,
       "version_minor": 0
      },
      "text/plain": [
       "  0%|          | 0/1849 [00:00<?, ?it/s]"
      ]
     },
     "metadata": {},
     "output_type": "display_data"
    },
    {
     "data": {
      "application/vnd.jupyter.widget-view+json": {
       "model_id": "ca2686c02281413c9856d0202e4e6577",
       "version_major": 2,
       "version_minor": 0
      },
      "text/plain": [
       "  0%|          | 0/1847 [00:00<?, ?it/s]"
      ]
     },
     "metadata": {},
     "output_type": "display_data"
    },
    {
     "name": "stdout",
     "output_type": "stream",
     "text": [
      "Finished building GRN for Mk_0\n",
      "Building GRN for Mo_0\n",
      "initiating Net object ...\n",
      "gem_shape: (68, 1999)\n",
      "TF info shape: (91976, 1095)\n",
      "initiation completed.\n",
      "Adding additional TF-TG pairs to the base GRN\n"
     ]
    },
    {
     "data": {
      "application/vnd.jupyter.widget-view+json": {
       "model_id": "0e7f9b0dfd3b474e875aab41da124b1f",
       "version_major": 2,
       "version_minor": 0
      },
      "text/plain": [
       "  0%|          | 0/1849 [00:00<?, ?it/s]"
      ]
     },
     "metadata": {},
     "output_type": "display_data"
    },
    {
     "data": {
      "application/vnd.jupyter.widget-view+json": {
       "model_id": "7258e3062425496894d9b56848b66c28",
       "version_major": 2,
       "version_minor": 0
      },
      "text/plain": [
       "  0%|          | 0/1847 [00:00<?, ?it/s]"
      ]
     },
     "metadata": {},
     "output_type": "display_data"
    },
    {
     "name": "stdout",
     "output_type": "stream",
     "text": [
      "Finished building GRN for Mo_0\n",
      "Building GRN for Mo_1\n",
      "initiating Net object ...\n",
      "gem_shape: (84, 1999)\n",
      "TF info shape: (91976, 1095)\n",
      "initiation completed.\n",
      "Adding additional TF-TG pairs to the base GRN\n"
     ]
    },
    {
     "data": {
      "application/vnd.jupyter.widget-view+json": {
       "model_id": "f321ad5835184997af63ffeac63213bd",
       "version_major": 2,
       "version_minor": 0
      },
      "text/plain": [
       "  0%|          | 0/1849 [00:00<?, ?it/s]"
      ]
     },
     "metadata": {},
     "output_type": "display_data"
    },
    {
     "data": {
      "application/vnd.jupyter.widget-view+json": {
       "model_id": "04b7ed18158f46b0bfd6d7de7b65951a",
       "version_major": 2,
       "version_minor": 0
      },
      "text/plain": [
       "  0%|          | 0/1847 [00:00<?, ?it/s]"
      ]
     },
     "metadata": {},
     "output_type": "display_data"
    },
    {
     "name": "stdout",
     "output_type": "stream",
     "text": [
      "Finished building GRN for Mo_1\n",
      "Building GRN for Mo_2\n",
      "initiating Net object ...\n",
      "gem_shape: (202, 1999)\n",
      "TF info shape: (91976, 1095)\n",
      "initiation completed.\n",
      "Adding additional TF-TG pairs to the base GRN\n"
     ]
    },
    {
     "data": {
      "application/vnd.jupyter.widget-view+json": {
       "model_id": "8a18d4bc8de44abd96072b5a91547e1a",
       "version_major": 2,
       "version_minor": 0
      },
      "text/plain": [
       "  0%|          | 0/1849 [00:00<?, ?it/s]"
      ]
     },
     "metadata": {},
     "output_type": "display_data"
    },
    {
     "data": {
      "application/vnd.jupyter.widget-view+json": {
       "model_id": "1257b199b8074c1b9e693df72412f6b8",
       "version_major": 2,
       "version_minor": 0
      },
      "text/plain": [
       "  0%|          | 0/1847 [00:00<?, ?it/s]"
      ]
     },
     "metadata": {},
     "output_type": "display_data"
    },
    {
     "name": "stdout",
     "output_type": "stream",
     "text": [
      "Finished building GRN for Mo_2\n"
     ]
    }
   ],
   "source": [
    "# Model TF ~ G for every cluster\n",
    "cluster_grns = {}\n",
    "for cluster in adata.obs[cluster_key].cat.categories:\n",
    "    print(f\"Building GRN for {cluster}\")\n",
    "    adata_sub = adata[adata.obs[cluster_key] == cluster].copy()\n",
    "    net = co.Net(\n",
    "        gene_expression_matrix=adata_sub.to_df(), # Input gene expression matrix as data frame\n",
    "        TFinfo_matrix=base_grn, # Input base GRN\n",
    "        verbose=True\n",
    "    )\n",
    "    if TG_to_TF_dictionary:\n",
    "        print(\"Adding additional TF-TG pairs to the base GRN\")\n",
    "        net.addTFinfo_dictionary(TF_to_TG_dictionary)\n",
    "    net.fit_All_genes(\n",
    "        bagging_number=bagging_number,\n",
    "        alpha=alpha,\n",
    "        scaling=scale,\n",
    "        verbose=True\n",
    "    )\n",
    "    net.updateLinkList(verbose=True)\n",
    "    inference_result = net.linkList.copy()\n",
    "    cluster_grns[cluster] = inference_result\n",
    "    print(f\"Finished building GRN for {cluster}\")"
   ]
  },
  {
   "cell_type": "code",
   "execution_count": 119,
   "metadata": {},
   "outputs": [],
   "source": [
    "# Extract grn\n",
    "grn = pd.concat([v.assign(cluster=k) for k, v in cluster_grns.items()])\n",
    "grn = grn.dropna()[['source', 'target', 'coef_mean', 'p', 'cluster']]\n",
    "grn = grn.rename(columns={'coef_mean': 'score', 'p': 'pval'})\n",
    "grn = grn.rename(columns={'source': 'tf', 'target': 'gene'})\n",
    "grn = grn.sort_values(['tf', 'score'], ascending=[True, False])"
   ]
  },
  {
   "cell_type": "code",
   "execution_count": 120,
   "metadata": {},
   "outputs": [],
   "source": [
    "# Write\n",
    "grn.to_csv(path_out, index=False)"
   ]
  },
  {
   "cell_type": "code",
   "execution_count": 122,
   "metadata": {},
   "outputs": [],
   "source": [
    "mdata.uns[\"grn\"] = grn"
   ]
  },
  {
   "cell_type": "code",
   "execution_count": 123,
   "metadata": {},
   "outputs": [],
   "source": [
    "mdata.write(\"/cellar/users/aklie/data/datasets/paul15/analysis/celloracle/2024_05_21/celloracle.h5mu\")"
   ]
  },
  {
   "cell_type": "markdown",
   "metadata": {},
   "source": [
    "# Extract from CellOracle object"
   ]
  },
  {
   "cell_type": "code",
   "execution_count": 199,
   "metadata": {},
   "outputs": [
    {
     "data": {
      "text/plain": [
       "<celloracle.network_analysis.links_object.Links at 0x15520d1c4f40>"
      ]
     },
     "execution_count": 199,
     "metadata": {},
     "output_type": "execute_result"
    }
   ],
   "source": [
    "links = co.data.load_tutorial_links_object()\n",
    "links"
   ]
  },
  {
   "cell_type": "code",
   "execution_count": 205,
   "metadata": {},
   "outputs": [],
   "source": [
    "test = pd.concat([v.assign(cluster=k) for k, v in links.links_dict.items()])"
   ]
  },
  {
   "cell_type": "code",
   "execution_count": 206,
   "metadata": {},
   "outputs": [
    {
     "data": {
      "text/html": [
       "<div>\n",
       "<style scoped>\n",
       "    .dataframe tbody tr th:only-of-type {\n",
       "        vertical-align: middle;\n",
       "    }\n",
       "\n",
       "    .dataframe tbody tr th {\n",
       "        vertical-align: top;\n",
       "    }\n",
       "\n",
       "    .dataframe thead th {\n",
       "        text-align: right;\n",
       "    }\n",
       "</style>\n",
       "<table border=\"1\" class=\"dataframe\">\n",
       "  <thead>\n",
       "    <tr style=\"text-align: right;\">\n",
       "      <th></th>\n",
       "      <th>source</th>\n",
       "      <th>target</th>\n",
       "      <th>coef_mean</th>\n",
       "      <th>coef_abs</th>\n",
       "      <th>p</th>\n",
       "      <th>-logp</th>\n",
       "      <th>cluster</th>\n",
       "    </tr>\n",
       "  </thead>\n",
       "  <tbody>\n",
       "    <tr>\n",
       "      <th>0</th>\n",
       "      <td>Irf7</td>\n",
       "      <td>0610007L01Rik</td>\n",
       "      <td>0.007751</td>\n",
       "      <td>0.007751</td>\n",
       "      <td>8.629981e-05</td>\n",
       "      <td>4.063990</td>\n",
       "      <td>Mo_2</td>\n",
       "    </tr>\n",
       "    <tr>\n",
       "      <th>1</th>\n",
       "      <td>Fli1</td>\n",
       "      <td>0610007L01Rik</td>\n",
       "      <td>0.022571</td>\n",
       "      <td>0.022571</td>\n",
       "      <td>1.173783e-09</td>\n",
       "      <td>8.930412</td>\n",
       "      <td>Mo_2</td>\n",
       "    </tr>\n",
       "    <tr>\n",
       "      <th>2</th>\n",
       "      <td>Foxp1</td>\n",
       "      <td>0610007L01Rik</td>\n",
       "      <td>0.011244</td>\n",
       "      <td>0.011244</td>\n",
       "      <td>3.803174e-05</td>\n",
       "      <td>4.419854</td>\n",
       "      <td>Mo_2</td>\n",
       "    </tr>\n",
       "    <tr>\n",
       "      <th>3</th>\n",
       "      <td>Chd2</td>\n",
       "      <td>0610007L01Rik</td>\n",
       "      <td>-0.013774</td>\n",
       "      <td>0.013774</td>\n",
       "      <td>6.197509e-10</td>\n",
       "      <td>9.207783</td>\n",
       "      <td>Mo_2</td>\n",
       "    </tr>\n",
       "    <tr>\n",
       "      <th>4</th>\n",
       "      <td>Stat1</td>\n",
       "      <td>0610007L01Rik</td>\n",
       "      <td>0.015618</td>\n",
       "      <td>0.015618</td>\n",
       "      <td>4.605829e-06</td>\n",
       "      <td>5.336692</td>\n",
       "      <td>Mo_2</td>\n",
       "    </tr>\n",
       "    <tr>\n",
       "      <th>...</th>\n",
       "      <td>...</td>\n",
       "      <td>...</td>\n",
       "      <td>...</td>\n",
       "      <td>...</td>\n",
       "      <td>...</td>\n",
       "      <td>...</td>\n",
       "      <td>...</td>\n",
       "    </tr>\n",
       "    <tr>\n",
       "      <th>74932</th>\n",
       "      <td>Stat3</td>\n",
       "      <td>Zyx</td>\n",
       "      <td>0.027406</td>\n",
       "      <td>0.027406</td>\n",
       "      <td>5.937966e-14</td>\n",
       "      <td>13.226362</td>\n",
       "      <td>Mo_2</td>\n",
       "    </tr>\n",
       "    <tr>\n",
       "      <th>74933</th>\n",
       "      <td>Nfic</td>\n",
       "      <td>Zyx</td>\n",
       "      <td>0.001807</td>\n",
       "      <td>0.001807</td>\n",
       "      <td>2.059337e-01</td>\n",
       "      <td>0.686272</td>\n",
       "      <td>Mo_2</td>\n",
       "    </tr>\n",
       "    <tr>\n",
       "      <th>74934</th>\n",
       "      <td>Stat5a</td>\n",
       "      <td>Zyx</td>\n",
       "      <td>0.018760</td>\n",
       "      <td>0.018760</td>\n",
       "      <td>1.559392e-10</td>\n",
       "      <td>9.807045</td>\n",
       "      <td>Mo_2</td>\n",
       "    </tr>\n",
       "    <tr>\n",
       "      <th>74935</th>\n",
       "      <td>Hnf4a</td>\n",
       "      <td>Zyx</td>\n",
       "      <td>-0.008124</td>\n",
       "      <td>0.008124</td>\n",
       "      <td>1.052843e-05</td>\n",
       "      <td>4.977636</td>\n",
       "      <td>Mo_2</td>\n",
       "    </tr>\n",
       "    <tr>\n",
       "      <th>74936</th>\n",
       "      <td>Smarcc1</td>\n",
       "      <td>Zyx</td>\n",
       "      <td>0.007235</td>\n",
       "      <td>0.007235</td>\n",
       "      <td>3.349336e-04</td>\n",
       "      <td>3.475041</td>\n",
       "      <td>Mo_2</td>\n",
       "    </tr>\n",
       "  </tbody>\n",
       "</table>\n",
       "<p>74937 rows × 7 columns</p>\n",
       "</div>"
      ],
      "text/plain": [
       "        source         target  coef_mean  coef_abs             p      -logp  \\\n",
       "0         Irf7  0610007L01Rik   0.007751  0.007751  8.629981e-05   4.063990   \n",
       "1         Fli1  0610007L01Rik   0.022571  0.022571  1.173783e-09   8.930412   \n",
       "2        Foxp1  0610007L01Rik   0.011244  0.011244  3.803174e-05   4.419854   \n",
       "3         Chd2  0610007L01Rik  -0.013774  0.013774  6.197509e-10   9.207783   \n",
       "4        Stat1  0610007L01Rik   0.015618  0.015618  4.605829e-06   5.336692   \n",
       "...        ...            ...        ...       ...           ...        ...   \n",
       "74932    Stat3            Zyx   0.027406  0.027406  5.937966e-14  13.226362   \n",
       "74933     Nfic            Zyx   0.001807  0.001807  2.059337e-01   0.686272   \n",
       "74934   Stat5a            Zyx   0.018760  0.018760  1.559392e-10   9.807045   \n",
       "74935    Hnf4a            Zyx  -0.008124  0.008124  1.052843e-05   4.977636   \n",
       "74936  Smarcc1            Zyx   0.007235  0.007235  3.349336e-04   3.475041   \n",
       "\n",
       "      cluster  \n",
       "0        Mo_2  \n",
       "1        Mo_2  \n",
       "2        Mo_2  \n",
       "3        Mo_2  \n",
       "4        Mo_2  \n",
       "...       ...  \n",
       "74932    Mo_2  \n",
       "74933    Mo_2  \n",
       "74934    Mo_2  \n",
       "74935    Mo_2  \n",
       "74936    Mo_2  \n",
       "\n",
       "[74937 rows x 7 columns]"
      ]
     },
     "execution_count": 206,
     "metadata": {},
     "output_type": "execute_result"
    }
   ],
   "source": [
    "test[test[\"cluster\"] == \"Mo_2\"]"
   ]
  },
  {
   "cell_type": "code",
   "execution_count": 303,
   "metadata": {},
   "outputs": [
    {
     "data": {
      "text/html": [
       "<div>\n",
       "<style scoped>\n",
       "    .dataframe tbody tr th:only-of-type {\n",
       "        vertical-align: middle;\n",
       "    }\n",
       "\n",
       "    .dataframe tbody tr th {\n",
       "        vertical-align: top;\n",
       "    }\n",
       "\n",
       "    .dataframe thead th {\n",
       "        text-align: right;\n",
       "    }\n",
       "</style>\n",
       "<table border=\"1\" class=\"dataframe\">\n",
       "  <thead>\n",
       "    <tr style=\"text-align: right;\">\n",
       "      <th></th>\n",
       "      <th>tf</th>\n",
       "      <th>gene</th>\n",
       "      <th>score</th>\n",
       "      <th>pval</th>\n",
       "      <th>cluster</th>\n",
       "    </tr>\n",
       "  </thead>\n",
       "  <tbody>\n",
       "    <tr>\n",
       "      <th>0</th>\n",
       "      <td>Irf7</td>\n",
       "      <td>0610007L01Rik</td>\n",
       "      <td>-0.009400</td>\n",
       "      <td>4.912392e-08</td>\n",
       "      <td>Ery_0</td>\n",
       "    </tr>\n",
       "    <tr>\n",
       "      <th>1</th>\n",
       "      <td>Fli1</td>\n",
       "      <td>0610007L01Rik</td>\n",
       "      <td>0.000347</td>\n",
       "      <td>8.124897e-01</td>\n",
       "      <td>Ery_0</td>\n",
       "    </tr>\n",
       "    <tr>\n",
       "      <th>2</th>\n",
       "      <td>Foxp1</td>\n",
       "      <td>0610007L01Rik</td>\n",
       "      <td>-0.007035</td>\n",
       "      <td>3.098882e-04</td>\n",
       "      <td>Ery_0</td>\n",
       "    </tr>\n",
       "    <tr>\n",
       "      <th>3</th>\n",
       "      <td>Chd2</td>\n",
       "      <td>0610007L01Rik</td>\n",
       "      <td>-0.010569</td>\n",
       "      <td>5.736120e-06</td>\n",
       "      <td>Ery_0</td>\n",
       "    </tr>\n",
       "    <tr>\n",
       "      <th>4</th>\n",
       "      <td>Stat1</td>\n",
       "      <td>0610007L01Rik</td>\n",
       "      <td>0.000632</td>\n",
       "      <td>3.694124e-01</td>\n",
       "      <td>Ery_0</td>\n",
       "    </tr>\n",
       "    <tr>\n",
       "      <th>...</th>\n",
       "      <td>...</td>\n",
       "      <td>...</td>\n",
       "      <td>...</td>\n",
       "      <td>...</td>\n",
       "      <td>...</td>\n",
       "    </tr>\n",
       "    <tr>\n",
       "      <th>74932</th>\n",
       "      <td>Stat3</td>\n",
       "      <td>Zyx</td>\n",
       "      <td>0.027406</td>\n",
       "      <td>5.937966e-14</td>\n",
       "      <td>Mo_2</td>\n",
       "    </tr>\n",
       "    <tr>\n",
       "      <th>74933</th>\n",
       "      <td>Nfic</td>\n",
       "      <td>Zyx</td>\n",
       "      <td>0.001807</td>\n",
       "      <td>2.059337e-01</td>\n",
       "      <td>Mo_2</td>\n",
       "    </tr>\n",
       "    <tr>\n",
       "      <th>74934</th>\n",
       "      <td>Stat5a</td>\n",
       "      <td>Zyx</td>\n",
       "      <td>0.018760</td>\n",
       "      <td>1.559392e-10</td>\n",
       "      <td>Mo_2</td>\n",
       "    </tr>\n",
       "    <tr>\n",
       "      <th>74935</th>\n",
       "      <td>Hnf4a</td>\n",
       "      <td>Zyx</td>\n",
       "      <td>-0.008124</td>\n",
       "      <td>1.052843e-05</td>\n",
       "      <td>Mo_2</td>\n",
       "    </tr>\n",
       "    <tr>\n",
       "      <th>74936</th>\n",
       "      <td>Smarcc1</td>\n",
       "      <td>Zyx</td>\n",
       "      <td>0.007235</td>\n",
       "      <td>3.349336e-04</td>\n",
       "      <td>Mo_2</td>\n",
       "    </tr>\n",
       "  </tbody>\n",
       "</table>\n",
       "<p>1716652 rows × 5 columns</p>\n",
       "</div>"
      ],
      "text/plain": [
       "            tf           gene     score          pval cluster\n",
       "0         Irf7  0610007L01Rik -0.009400  4.912392e-08   Ery_0\n",
       "1         Fli1  0610007L01Rik  0.000347  8.124897e-01   Ery_0\n",
       "2        Foxp1  0610007L01Rik -0.007035  3.098882e-04   Ery_0\n",
       "3         Chd2  0610007L01Rik -0.010569  5.736120e-06   Ery_0\n",
       "4        Stat1  0610007L01Rik  0.000632  3.694124e-01   Ery_0\n",
       "...        ...            ...       ...           ...     ...\n",
       "74932    Stat3            Zyx  0.027406  5.937966e-14    Mo_2\n",
       "74933     Nfic            Zyx  0.001807  2.059337e-01    Mo_2\n",
       "74934   Stat5a            Zyx  0.018760  1.559392e-10    Mo_2\n",
       "74935    Hnf4a            Zyx -0.008124  1.052843e-05    Mo_2\n",
       "74936  Smarcc1            Zyx  0.007235  3.349336e-04    Mo_2\n",
       "\n",
       "[1716652 rows x 5 columns]"
      ]
     },
     "execution_count": 303,
     "metadata": {},
     "output_type": "execute_result"
    }
   ],
   "source": [
    "# Extract tutorial_grn\n",
    "tutorial_grn = pd.concat([v.assign(cluster=k) for k, v in links.links_dict.items()])\n",
    "tutorial_grn = tutorial_grn.dropna()[['source', 'target', 'coef_mean', 'p', 'cluster']]\n",
    "tutorial_grn = tutorial_grn.rename(columns={'coef_mean': 'score', 'p': 'pval'})\n",
    "tutorial_grn = tutorial_grn.rename(columns={'source': 'tf', 'target': 'gene'})\n",
    "tutorial_grn"
   ]
  },
  {
   "cell_type": "code",
   "execution_count": 304,
   "metadata": {},
   "outputs": [
    {
     "data": {
      "text/html": [
       "<div>\n",
       "<style scoped>\n",
       "    .dataframe tbody tr th:only-of-type {\n",
       "        vertical-align: middle;\n",
       "    }\n",
       "\n",
       "    .dataframe tbody tr th {\n",
       "        vertical-align: top;\n",
       "    }\n",
       "\n",
       "    .dataframe thead th {\n",
       "        text-align: right;\n",
       "    }\n",
       "</style>\n",
       "<table border=\"1\" class=\"dataframe\">\n",
       "  <thead>\n",
       "    <tr style=\"text-align: right;\">\n",
       "      <th></th>\n",
       "      <th>tf</th>\n",
       "      <th>gene</th>\n",
       "      <th>score</th>\n",
       "      <th>pval</th>\n",
       "      <th>cluster</th>\n",
       "    </tr>\n",
       "  </thead>\n",
       "  <tbody>\n",
       "    <tr>\n",
       "      <th>0</th>\n",
       "      <td>Irf7</td>\n",
       "      <td>0610007L01Rik</td>\n",
       "      <td>0.007751</td>\n",
       "      <td>8.629981e-05</td>\n",
       "      <td>Mo_2</td>\n",
       "    </tr>\n",
       "    <tr>\n",
       "      <th>1</th>\n",
       "      <td>Fli1</td>\n",
       "      <td>0610007L01Rik</td>\n",
       "      <td>0.022571</td>\n",
       "      <td>1.173783e-09</td>\n",
       "      <td>Mo_2</td>\n",
       "    </tr>\n",
       "    <tr>\n",
       "      <th>2</th>\n",
       "      <td>Foxp1</td>\n",
       "      <td>0610007L01Rik</td>\n",
       "      <td>0.011244</td>\n",
       "      <td>3.803174e-05</td>\n",
       "      <td>Mo_2</td>\n",
       "    </tr>\n",
       "    <tr>\n",
       "      <th>3</th>\n",
       "      <td>Chd2</td>\n",
       "      <td>0610007L01Rik</td>\n",
       "      <td>-0.013774</td>\n",
       "      <td>6.197509e-10</td>\n",
       "      <td>Mo_2</td>\n",
       "    </tr>\n",
       "    <tr>\n",
       "      <th>4</th>\n",
       "      <td>Stat1</td>\n",
       "      <td>0610007L01Rik</td>\n",
       "      <td>0.015618</td>\n",
       "      <td>4.605829e-06</td>\n",
       "      <td>Mo_2</td>\n",
       "    </tr>\n",
       "    <tr>\n",
       "      <th>...</th>\n",
       "      <td>...</td>\n",
       "      <td>...</td>\n",
       "      <td>...</td>\n",
       "      <td>...</td>\n",
       "      <td>...</td>\n",
       "    </tr>\n",
       "    <tr>\n",
       "      <th>74932</th>\n",
       "      <td>Stat3</td>\n",
       "      <td>Zyx</td>\n",
       "      <td>0.027406</td>\n",
       "      <td>5.937966e-14</td>\n",
       "      <td>Mo_2</td>\n",
       "    </tr>\n",
       "    <tr>\n",
       "      <th>74933</th>\n",
       "      <td>Nfic</td>\n",
       "      <td>Zyx</td>\n",
       "      <td>0.001807</td>\n",
       "      <td>2.059337e-01</td>\n",
       "      <td>Mo_2</td>\n",
       "    </tr>\n",
       "    <tr>\n",
       "      <th>74934</th>\n",
       "      <td>Stat5a</td>\n",
       "      <td>Zyx</td>\n",
       "      <td>0.018760</td>\n",
       "      <td>1.559392e-10</td>\n",
       "      <td>Mo_2</td>\n",
       "    </tr>\n",
       "    <tr>\n",
       "      <th>74935</th>\n",
       "      <td>Hnf4a</td>\n",
       "      <td>Zyx</td>\n",
       "      <td>-0.008124</td>\n",
       "      <td>1.052843e-05</td>\n",
       "      <td>Mo_2</td>\n",
       "    </tr>\n",
       "    <tr>\n",
       "      <th>74936</th>\n",
       "      <td>Smarcc1</td>\n",
       "      <td>Zyx</td>\n",
       "      <td>0.007235</td>\n",
       "      <td>3.349336e-04</td>\n",
       "      <td>Mo_2</td>\n",
       "    </tr>\n",
       "  </tbody>\n",
       "</table>\n",
       "<p>71752 rows × 5 columns</p>\n",
       "</div>"
      ],
      "text/plain": [
       "            tf           gene     score          pval cluster\n",
       "0         Irf7  0610007L01Rik  0.007751  8.629981e-05    Mo_2\n",
       "1         Fli1  0610007L01Rik  0.022571  1.173783e-09    Mo_2\n",
       "2        Foxp1  0610007L01Rik  0.011244  3.803174e-05    Mo_2\n",
       "3         Chd2  0610007L01Rik -0.013774  6.197509e-10    Mo_2\n",
       "4        Stat1  0610007L01Rik  0.015618  4.605829e-06    Mo_2\n",
       "...        ...            ...       ...           ...     ...\n",
       "74932    Stat3            Zyx  0.027406  5.937966e-14    Mo_2\n",
       "74933     Nfic            Zyx  0.001807  2.059337e-01    Mo_2\n",
       "74934   Stat5a            Zyx  0.018760  1.559392e-10    Mo_2\n",
       "74935    Hnf4a            Zyx -0.008124  1.052843e-05    Mo_2\n",
       "74936  Smarcc1            Zyx  0.007235  3.349336e-04    Mo_2\n",
       "\n",
       "[71752 rows x 5 columns]"
      ]
     },
     "execution_count": 304,
     "metadata": {},
     "output_type": "execute_result"
    }
   ],
   "source": [
    "tutorial_grn[tutorial_grn[\"cluster\"]==\"Mo_2\"]"
   ]
  },
  {
   "cell_type": "code",
   "execution_count": 305,
   "metadata": {},
   "outputs": [],
   "source": [
    "mdata.uns[\"tutorial_grn\"] = tutorial_grn"
   ]
  },
  {
   "cell_type": "code",
   "execution_count": 306,
   "metadata": {},
   "outputs": [],
   "source": [
    "mdata.write(\"/cellar/users/aklie/data/datasets/paul15/analysis/celloracle/2024_05_21/celloracle.h5mu\")"
   ]
  },
  {
   "cell_type": "markdown",
   "metadata": {},
   "source": [
    "# DONE!"
   ]
  },
  {
   "cell_type": "markdown",
   "metadata": {},
   "source": [
    "---"
   ]
  }
 ],
 "metadata": {
  "kernelspec": {
   "display_name": "Python 3.10 test_celloracle",
   "language": "python",
   "name": "test_scenicplus-py310"
  },
  "language_info": {
   "codemirror_mode": {
    "name": "ipython",
    "version": 3
   },
   "file_extension": ".py",
   "mimetype": "text/x-python",
   "name": "python",
   "nbconvert_exporter": "python",
   "pygments_lexer": "ipython3",
   "version": "3.10.8"
  }
 },
 "nbformat": 4,
 "nbformat_minor": 2
}
