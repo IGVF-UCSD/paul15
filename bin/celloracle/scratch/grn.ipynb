{
 "cells": [
  {
   "cell_type": "markdown",
   "metadata": {},
   "source": [
    "# CellOracle GRN"
   ]
  },
  {
   "cell_type": "code",
   "execution_count": 6,
   "metadata": {},
   "outputs": [],
   "source": [
    "import pandas as pd\n",
    "import muon as mu\n",
    "import scanpy as sc\n",
    "import celloracle as co"
   ]
  },
  {
   "cell_type": "code",
   "execution_count": 7,
   "metadata": {},
   "outputs": [],
   "source": [
    "# Load args\n",
    "path_data = \"/cellar/users/aklie/data/datasets/paul15/annotated/Paul_etal_15.h5mu\"\n",
    "path_r2g = None\n",
    "path_tf2r = None\n",
    "use_base_grn = True\n",
    "cluster_key = \"louvain_annot\"\n",
    "layer = \"scaled_imputed_counts\"\n",
    "alpha = 10\n",
    "bagging_number = 20\n",
    "path_out = \"/cellar/users/aklie/data/datasets/paul15/analysis/celloracle/grn.csv\""
   ]
  },
  {
   "cell_type": "code",
   "execution_count": 8,
   "metadata": {},
   "outputs": [],
   "source": [
    "# Process base GRN\n",
    "if use_base_grn:\n",
    "    base_grn = co.data.load_mouse_scATAC_atlas_base_GRN()\n",
    "else:\n",
    "    r2g = pd.read_csv(path_r2g)\n",
    "    tfb = pd.read_csv(path_tf2r)\n",
    "    if (r2g.shape[0] == 0) or (tfb.shape[0] == 0):\n",
    "        grn = pd.DataFrame(columns=['source', 'target', 'score', 'pval'])\n",
    "        grn.to_csv(path_out, index=False)\n",
    "        exit()\n",
    "    tfb['score'] = 1\n",
    "    r2g = r2g[['cre', 'gene']]\n",
    "    base_grn = pd.merge(\n",
    "        r2g,\n",
    "        tfb\n",
    "        .pivot(index='cre', columns='tf')\n",
    "        .fillna(0)\n",
    "        .droplevel(0, axis=1)\n",
    "        .reset_index()\n",
    "    )\n",
    "    base_grn = base_grn.rename(columns={'cre': 'peak_id', 'gene': 'gene_short_name'})\n",
    "    base_grn['peak_id'] = base_grn['peak_id'].str.replace('-', '_')"
   ]
  },
  {
   "cell_type": "code",
   "execution_count": 9,
   "metadata": {},
   "outputs": [
    {
     "name": "stdout",
     "output_type": "stream",
     "text": [
      "Using data in layer scaled_imputed_counts for regression.\n"
     ]
    }
   ],
   "source": [
    "# Init object\n",
    "mdata = mu.read(path_data)\n",
    "adata = mdata.mod[\"rna\"].copy()\n",
    "adata.obs[cluster_key] = mdata.obs[cluster_key].copy()\n",
    "if layer in adata.layers:\n",
    "    print(f\"Using data in layer {layer} for regression.\")\n",
    "    adata.X = adata.layers[layer].copy()\n",
    "else:\n",
    "    print(f\"Could not find layer {layer}. Using log normalized counts for regression.\")\n",
    "    adata.X = adata.layers[\"counts\"].copy()\n",
    "    sc.pp.normalize_total(adata, target_sum=1e4)\n",
    "    sc.pp.log1p(adata)"
   ]
  },
  {
   "cell_type": "code",
   "execution_count": 10,
   "metadata": {},
   "outputs": [
    {
     "data": {
      "text/plain": [
       "AnnData object with n_obs × n_vars = 165 × 1999\n",
       "    obs: 'paul15_clusters', 'n_counts_all', 'n_counts', 'louvain', 'cell_type', 'louvain_annot', 'Lineage_MEP', 'Lineage_GMP', 'Pseudotime_Lineage_MEP', 'Pseudotime_Lineage_GMP', 'Pseudotime'\n",
       "    var: 'n_counts', 'symbol', 'isin_top1000_var_mean_genes', 'isin_TFdict_targets', 'isin_TFdict_regulators'\n",
       "    uns: 'cell_type_colors', 'diffmap_evals', 'draw_graph', 'iroot', 'log1p', 'louvain', 'louvain_annot_colors', 'louvain_colors', 'louvain_sizes', 'neighbors', 'paga', 'paul15_clusters_colors', 'pca'\n",
       "    obsm: 'X_diffmap', 'X_draw_graph_fa', 'X_pca'\n",
       "    varm: 'PCs'\n",
       "    layers: 'imputed_count', 'normalized_count', 'raw_count', 'scaled_imputed_counts'\n",
       "    obsp: 'connectivities', 'distances'"
      ]
     },
     "execution_count": 10,
     "metadata": {},
     "output_type": "execute_result"
    }
   ],
   "source": [
    "# Select only MEP_0 cluster\n",
    "adata = adata[adata.obs[cluster_key] == \"MEP_0\"].copy()\n",
    "adata.obs[]"
   ]
  },
  {
   "cell_type": "code",
   "execution_count": 19,
   "metadata": {},
   "outputs": [
    {
     "name": "stdout",
     "output_type": "stream",
     "text": [
      "Building GRN for Ery_0\n",
      "initiating Net object ...\n",
      "gem_shape: (101, 1999)\n",
      "TF info shape: (91976, 1095)\n",
      "initiation completed.\n"
     ]
    },
    {
     "data": {
      "application/vnd.jupyter.widget-view+json": {
       "model_id": "b4611272e1ed443ea9a60e988c9ac447",
       "version_major": 2,
       "version_minor": 0
      },
      "text/plain": [
       "  0%|          | 0/1848 [00:00<?, ?it/s]"
      ]
     },
     "metadata": {},
     "output_type": "display_data"
    },
    {
     "data": {
      "application/vnd.jupyter.widget-view+json": {
       "model_id": "6f544363e5f7469a904a2cfda3097c1b",
       "version_major": 2,
       "version_minor": 0
      },
      "text/plain": [
       "  0%|          | 0/1846 [00:00<?, ?it/s]"
      ]
     },
     "metadata": {},
     "output_type": "display_data"
    },
    {
     "name": "stdout",
     "output_type": "stream",
     "text": [
      "Finished building GRN for Ery_0\n",
      "Building GRN for Ery_1\n",
      "initiating Net object ...\n",
      "gem_shape: (110, 1999)\n",
      "TF info shape: (91976, 1095)\n",
      "initiation completed.\n"
     ]
    },
    {
     "data": {
      "application/vnd.jupyter.widget-view+json": {
       "model_id": "3fff3e7356d44e508e656c41a386b227",
       "version_major": 2,
       "version_minor": 0
      },
      "text/plain": [
       "  0%|          | 0/1848 [00:00<?, ?it/s]"
      ]
     },
     "metadata": {},
     "output_type": "display_data"
    },
    {
     "data": {
      "application/vnd.jupyter.widget-view+json": {
       "model_id": "f74e6c4385714595974940687337a3ee",
       "version_major": 2,
       "version_minor": 0
      },
      "text/plain": [
       "  0%|          | 0/1846 [00:00<?, ?it/s]"
      ]
     },
     "metadata": {},
     "output_type": "display_data"
    },
    {
     "name": "stdout",
     "output_type": "stream",
     "text": [
      "Finished building GRN for Ery_1\n",
      "Building GRN for Ery_2\n",
      "initiating Net object ...\n",
      "gem_shape: (98, 1999)\n",
      "TF info shape: (91976, 1095)\n",
      "initiation completed.\n"
     ]
    },
    {
     "data": {
      "application/vnd.jupyter.widget-view+json": {
       "model_id": "3089b5805a344258b5f08cda5c4830c4",
       "version_major": 2,
       "version_minor": 0
      },
      "text/plain": [
       "  0%|          | 0/1848 [00:00<?, ?it/s]"
      ]
     },
     "metadata": {},
     "output_type": "display_data"
    },
    {
     "data": {
      "application/vnd.jupyter.widget-view+json": {
       "model_id": "74013b42876f4ddc8b05899945e367e6",
       "version_major": 2,
       "version_minor": 0
      },
      "text/plain": [
       "  0%|          | 0/1846 [00:00<?, ?it/s]"
      ]
     },
     "metadata": {},
     "output_type": "display_data"
    },
    {
     "name": "stdout",
     "output_type": "stream",
     "text": [
      "Finished building GRN for Ery_2\n",
      "Building GRN for Ery_3\n",
      "initiating Net object ...\n",
      "gem_shape: (103, 1999)\n",
      "TF info shape: (91976, 1095)\n",
      "initiation completed.\n"
     ]
    },
    {
     "data": {
      "application/vnd.jupyter.widget-view+json": {
       "model_id": "c4feec1f332847d882514391bcf9bfc7",
       "version_major": 2,
       "version_minor": 0
      },
      "text/plain": [
       "  0%|          | 0/1848 [00:00<?, ?it/s]"
      ]
     },
     "metadata": {},
     "output_type": "display_data"
    },
    {
     "data": {
      "application/vnd.jupyter.widget-view+json": {
       "model_id": "7592d354f3c9432898ff1e19c7c239b8",
       "version_major": 2,
       "version_minor": 0
      },
      "text/plain": [
       "  0%|          | 0/1846 [00:00<?, ?it/s]"
      ]
     },
     "metadata": {},
     "output_type": "display_data"
    },
    {
     "name": "stdout",
     "output_type": "stream",
     "text": [
      "Finished building GRN for Ery_3\n",
      "Building GRN for Ery_4\n",
      "initiating Net object ...\n",
      "gem_shape: (118, 1999)\n",
      "TF info shape: (91976, 1095)\n",
      "initiation completed.\n"
     ]
    },
    {
     "data": {
      "application/vnd.jupyter.widget-view+json": {
       "model_id": "8addffd67c4d473c85b3c5de7c0da37e",
       "version_major": 2,
       "version_minor": 0
      },
      "text/plain": [
       "  0%|          | 0/1848 [00:00<?, ?it/s]"
      ]
     },
     "metadata": {},
     "output_type": "display_data"
    },
    {
     "data": {
      "application/vnd.jupyter.widget-view+json": {
       "model_id": "679daddbd2fc40d2a459ac8f4c73dcc8",
       "version_major": 2,
       "version_minor": 0
      },
      "text/plain": [
       "  0%|          | 0/1846 [00:00<?, ?it/s]"
      ]
     },
     "metadata": {},
     "output_type": "display_data"
    },
    {
     "name": "stdout",
     "output_type": "stream",
     "text": [
      "Finished building GRN for Ery_4\n",
      "Building GRN for Ery_5\n",
      "initiating Net object ...\n",
      "gem_shape: (119, 1999)\n",
      "TF info shape: (91976, 1095)\n",
      "initiation completed.\n"
     ]
    },
    {
     "data": {
      "application/vnd.jupyter.widget-view+json": {
       "model_id": "f894f4b6d22b4951bfea43eaf5fdad23",
       "version_major": 2,
       "version_minor": 0
      },
      "text/plain": [
       "  0%|          | 0/1848 [00:00<?, ?it/s]"
      ]
     },
     "metadata": {},
     "output_type": "display_data"
    },
    {
     "data": {
      "application/vnd.jupyter.widget-view+json": {
       "model_id": "2cf1a38993b642aaa488ecb886d2841e",
       "version_major": 2,
       "version_minor": 0
      },
      "text/plain": [
       "  0%|          | 0/1846 [00:00<?, ?it/s]"
      ]
     },
     "metadata": {},
     "output_type": "display_data"
    },
    {
     "name": "stdout",
     "output_type": "stream",
     "text": [
      "Finished building GRN for Ery_5\n",
      "Building GRN for Ery_6\n",
      "initiating Net object ...\n",
      "gem_shape: (68, 1999)\n",
      "TF info shape: (91976, 1095)\n",
      "initiation completed.\n"
     ]
    },
    {
     "data": {
      "application/vnd.jupyter.widget-view+json": {
       "model_id": "560dcc6c7047416989c2f9d75b1e1509",
       "version_major": 2,
       "version_minor": 0
      },
      "text/plain": [
       "  0%|          | 0/1848 [00:00<?, ?it/s]"
      ]
     },
     "metadata": {},
     "output_type": "display_data"
    },
    {
     "data": {
      "application/vnd.jupyter.widget-view+json": {
       "model_id": "41542e9e31224bc6b7223d507acca157",
       "version_major": 2,
       "version_minor": 0
      },
      "text/plain": [
       "  0%|          | 0/1846 [00:00<?, ?it/s]"
      ]
     },
     "metadata": {},
     "output_type": "display_data"
    },
    {
     "name": "stdout",
     "output_type": "stream",
     "text": [
      "Finished building GRN for Ery_6\n",
      "Building GRN for Ery_7\n",
      "initiating Net object ...\n",
      "gem_shape: (191, 1999)\n",
      "TF info shape: (91976, 1095)\n",
      "initiation completed.\n"
     ]
    },
    {
     "data": {
      "application/vnd.jupyter.widget-view+json": {
       "model_id": "295b728bef0148a5b2cbc3293e01eabe",
       "version_major": 2,
       "version_minor": 0
      },
      "text/plain": [
       "  0%|          | 0/1848 [00:00<?, ?it/s]"
      ]
     },
     "metadata": {},
     "output_type": "display_data"
    },
    {
     "data": {
      "application/vnd.jupyter.widget-view+json": {
       "model_id": "9c75afc704e84152ac3000e19ee835c8",
       "version_major": 2,
       "version_minor": 0
      },
      "text/plain": [
       "  0%|          | 0/1846 [00:00<?, ?it/s]"
      ]
     },
     "metadata": {},
     "output_type": "display_data"
    },
    {
     "name": "stdout",
     "output_type": "stream",
     "text": [
      "Finished building GRN for Ery_7\n",
      "Building GRN for Ery_8\n",
      "initiating Net object ...\n",
      "gem_shape: (108, 1999)\n",
      "TF info shape: (91976, 1095)\n",
      "initiation completed.\n"
     ]
    },
    {
     "data": {
      "application/vnd.jupyter.widget-view+json": {
       "model_id": "b329440a4138460195fa30c649cc9b1d",
       "version_major": 2,
       "version_minor": 0
      },
      "text/plain": [
       "  0%|          | 0/1848 [00:00<?, ?it/s]"
      ]
     },
     "metadata": {},
     "output_type": "display_data"
    },
    {
     "data": {
      "application/vnd.jupyter.widget-view+json": {
       "model_id": "845e2e8dcace4163b08a6e021d74e7d3",
       "version_major": 2,
       "version_minor": 0
      },
      "text/plain": [
       "  0%|          | 0/1846 [00:00<?, ?it/s]"
      ]
     },
     "metadata": {},
     "output_type": "display_data"
    },
    {
     "name": "stdout",
     "output_type": "stream",
     "text": [
      "Finished building GRN for Ery_8\n",
      "Building GRN for Ery_9\n",
      "initiating Net object ...\n",
      "gem_shape: (77, 1999)\n",
      "TF info shape: (91976, 1095)\n",
      "initiation completed.\n"
     ]
    },
    {
     "data": {
      "application/vnd.jupyter.widget-view+json": {
       "model_id": "9e5c96037a514515aae19028a7908168",
       "version_major": 2,
       "version_minor": 0
      },
      "text/plain": [
       "  0%|          | 0/1848 [00:00<?, ?it/s]"
      ]
     },
     "metadata": {},
     "output_type": "display_data"
    },
    {
     "data": {
      "application/vnd.jupyter.widget-view+json": {
       "model_id": "abb7d1d6f7434bc4912e0d4f409f460e",
       "version_major": 2,
       "version_minor": 0
      },
      "text/plain": [
       "  0%|          | 0/1846 [00:00<?, ?it/s]"
      ]
     },
     "metadata": {},
     "output_type": "display_data"
    },
    {
     "name": "stdout",
     "output_type": "stream",
     "text": [
      "Finished building GRN for Ery_9\n",
      "Building GRN for GMP_0\n",
      "initiating Net object ...\n",
      "gem_shape: (109, 1999)\n",
      "TF info shape: (91976, 1095)\n",
      "initiation completed.\n"
     ]
    },
    {
     "data": {
      "application/vnd.jupyter.widget-view+json": {
       "model_id": "bc267a87d5ae45cda301aedeb5aa6c28",
       "version_major": 2,
       "version_minor": 0
      },
      "text/plain": [
       "  0%|          | 0/1848 [00:00<?, ?it/s]"
      ]
     },
     "metadata": {},
     "output_type": "display_data"
    },
    {
     "data": {
      "application/vnd.jupyter.widget-view+json": {
       "model_id": "dd25dc49a33049379492b04abb8c9f79",
       "version_major": 2,
       "version_minor": 0
      },
      "text/plain": [
       "  0%|          | 0/1846 [00:00<?, ?it/s]"
      ]
     },
     "metadata": {},
     "output_type": "display_data"
    },
    {
     "name": "stdout",
     "output_type": "stream",
     "text": [
      "Finished building GRN for GMP_0\n",
      "Building GRN for GMP_1\n",
      "initiating Net object ...\n",
      "gem_shape: (209, 1999)\n",
      "TF info shape: (91976, 1095)\n",
      "initiation completed.\n"
     ]
    },
    {
     "data": {
      "application/vnd.jupyter.widget-view+json": {
       "model_id": "9e32ef7e104448b1802b9e367f0310f6",
       "version_major": 2,
       "version_minor": 0
      },
      "text/plain": [
       "  0%|          | 0/1848 [00:00<?, ?it/s]"
      ]
     },
     "metadata": {},
     "output_type": "display_data"
    },
    {
     "data": {
      "application/vnd.jupyter.widget-view+json": {
       "model_id": "736307c5769140f497085ff20172a840",
       "version_major": 2,
       "version_minor": 0
      },
      "text/plain": [
       "  0%|          | 0/1846 [00:00<?, ?it/s]"
      ]
     },
     "metadata": {},
     "output_type": "display_data"
    },
    {
     "name": "stdout",
     "output_type": "stream",
     "text": [
      "Finished building GRN for GMP_1\n",
      "Building GRN for GMPl_0\n",
      "initiating Net object ...\n",
      "gem_shape: (246, 1999)\n",
      "TF info shape: (91976, 1095)\n",
      "initiation completed.\n"
     ]
    },
    {
     "data": {
      "application/vnd.jupyter.widget-view+json": {
       "model_id": "121069731f5c4904b80f53b288c27a9e",
       "version_major": 2,
       "version_minor": 0
      },
      "text/plain": [
       "  0%|          | 0/1848 [00:00<?, ?it/s]"
      ]
     },
     "metadata": {},
     "output_type": "display_data"
    },
    {
     "data": {
      "application/vnd.jupyter.widget-view+json": {
       "model_id": "cb555c8eb83849d78d8a4a7c0a92d1a8",
       "version_major": 2,
       "version_minor": 0
      },
      "text/plain": [
       "  0%|          | 0/1846 [00:00<?, ?it/s]"
      ]
     },
     "metadata": {},
     "output_type": "display_data"
    },
    {
     "name": "stdout",
     "output_type": "stream",
     "text": [
      "Finished building GRN for GMPl_0\n",
      "Building GRN for Gran_0\n",
      "initiating Net object ...\n",
      "gem_shape: (143, 1999)\n",
      "TF info shape: (91976, 1095)\n",
      "initiation completed.\n"
     ]
    },
    {
     "data": {
      "application/vnd.jupyter.widget-view+json": {
       "model_id": "aad726fcbac84b2982df5c2dad845e32",
       "version_major": 2,
       "version_minor": 0
      },
      "text/plain": [
       "  0%|          | 0/1848 [00:00<?, ?it/s]"
      ]
     },
     "metadata": {},
     "output_type": "display_data"
    },
    {
     "data": {
      "application/vnd.jupyter.widget-view+json": {
       "model_id": "a72fa6bc36894d25872917484349c3af",
       "version_major": 2,
       "version_minor": 0
      },
      "text/plain": [
       "  0%|          | 0/1846 [00:00<?, ?it/s]"
      ]
     },
     "metadata": {},
     "output_type": "display_data"
    },
    {
     "name": "stdout",
     "output_type": "stream",
     "text": [
      "Finished building GRN for Gran_0\n",
      "Building GRN for Gran_1\n",
      "initiating Net object ...\n",
      "gem_shape: (104, 1999)\n",
      "TF info shape: (91976, 1095)\n",
      "initiation completed.\n"
     ]
    },
    {
     "data": {
      "application/vnd.jupyter.widget-view+json": {
       "model_id": "ccf6bc47b2d3435cb16b4912e6dfad24",
       "version_major": 2,
       "version_minor": 0
      },
      "text/plain": [
       "  0%|          | 0/1848 [00:00<?, ?it/s]"
      ]
     },
     "metadata": {},
     "output_type": "display_data"
    },
    {
     "data": {
      "application/vnd.jupyter.widget-view+json": {
       "model_id": "294357f8f8cd45018c67ff9f95212727",
       "version_major": 2,
       "version_minor": 0
      },
      "text/plain": [
       "  0%|          | 0/1846 [00:00<?, ?it/s]"
      ]
     },
     "metadata": {},
     "output_type": "display_data"
    },
    {
     "name": "stdout",
     "output_type": "stream",
     "text": [
      "Finished building GRN for Gran_1\n",
      "Building GRN for Gran_2\n",
      "initiating Net object ...\n",
      "gem_shape: (165, 1999)\n",
      "TF info shape: (91976, 1095)\n",
      "initiation completed.\n"
     ]
    },
    {
     "data": {
      "application/vnd.jupyter.widget-view+json": {
       "model_id": "42fbe3cece23411594200b340ed7d230",
       "version_major": 2,
       "version_minor": 0
      },
      "text/plain": [
       "  0%|          | 0/1848 [00:00<?, ?it/s]"
      ]
     },
     "metadata": {},
     "output_type": "display_data"
    },
    {
     "data": {
      "application/vnd.jupyter.widget-view+json": {
       "model_id": "885abe524a1b499599fcd71c5966833b",
       "version_major": 2,
       "version_minor": 0
      },
      "text/plain": [
       "  0%|          | 0/1846 [00:00<?, ?it/s]"
      ]
     },
     "metadata": {},
     "output_type": "display_data"
    },
    {
     "name": "stdout",
     "output_type": "stream",
     "text": [
      "Finished building GRN for Gran_2\n",
      "Building GRN for MEP_0\n",
      "initiating Net object ...\n",
      "gem_shape: (157, 1999)\n",
      "TF info shape: (91976, 1095)\n",
      "initiation completed.\n"
     ]
    },
    {
     "data": {
      "application/vnd.jupyter.widget-view+json": {
       "model_id": "cc08c50aab9a41fabad2e1d5dd6a1dd1",
       "version_major": 2,
       "version_minor": 0
      },
      "text/plain": [
       "  0%|          | 0/1848 [00:00<?, ?it/s]"
      ]
     },
     "metadata": {},
     "output_type": "display_data"
    },
    {
     "data": {
      "application/vnd.jupyter.widget-view+json": {
       "model_id": "c8d681436d3d4959858f9f35651730a8",
       "version_major": 2,
       "version_minor": 0
      },
      "text/plain": [
       "  0%|          | 0/1846 [00:00<?, ?it/s]"
      ]
     },
     "metadata": {},
     "output_type": "display_data"
    },
    {
     "name": "stdout",
     "output_type": "stream",
     "text": [
      "Finished building GRN for MEP_0\n",
      "Building GRN for Mk_0\n",
      "initiating Net object ...\n",
      "gem_shape: (93, 1999)\n",
      "TF info shape: (91976, 1095)\n",
      "initiation completed.\n"
     ]
    },
    {
     "data": {
      "application/vnd.jupyter.widget-view+json": {
       "model_id": "dc257f92ec624f4dbaaf7d5ad54fcbc6",
       "version_major": 2,
       "version_minor": 0
      },
      "text/plain": [
       "  0%|          | 0/1848 [00:00<?, ?it/s]"
      ]
     },
     "metadata": {},
     "output_type": "display_data"
    },
    {
     "data": {
      "application/vnd.jupyter.widget-view+json": {
       "model_id": "d412946767564a6ca9c3524c19845f2c",
       "version_major": 2,
       "version_minor": 0
      },
      "text/plain": [
       "  0%|          | 0/1846 [00:00<?, ?it/s]"
      ]
     },
     "metadata": {},
     "output_type": "display_data"
    },
    {
     "name": "stdout",
     "output_type": "stream",
     "text": [
      "Finished building GRN for Mk_0\n",
      "Building GRN for Mo_0\n",
      "initiating Net object ...\n",
      "gem_shape: (146, 1999)\n",
      "TF info shape: (91976, 1095)\n",
      "initiation completed.\n"
     ]
    },
    {
     "data": {
      "application/vnd.jupyter.widget-view+json": {
       "model_id": "78579f90bbaf482091a1bb3928edc85c",
       "version_major": 2,
       "version_minor": 0
      },
      "text/plain": [
       "  0%|          | 0/1848 [00:00<?, ?it/s]"
      ]
     },
     "metadata": {},
     "output_type": "display_data"
    },
    {
     "data": {
      "application/vnd.jupyter.widget-view+json": {
       "model_id": "58275d5fce2641108530b6535cb8ecd5",
       "version_major": 2,
       "version_minor": 0
      },
      "text/plain": [
       "  0%|          | 0/1846 [00:00<?, ?it/s]"
      ]
     },
     "metadata": {},
     "output_type": "display_data"
    },
    {
     "name": "stdout",
     "output_type": "stream",
     "text": [
      "Finished building GRN for Mo_0\n",
      "Building GRN for Mo_1\n",
      "initiating Net object ...\n",
      "gem_shape: (206, 1999)\n",
      "TF info shape: (91976, 1095)\n",
      "initiation completed.\n"
     ]
    },
    {
     "data": {
      "application/vnd.jupyter.widget-view+json": {
       "model_id": "c2874387f62c40759bcf826cca2bb74c",
       "version_major": 2,
       "version_minor": 0
      },
      "text/plain": [
       "  0%|          | 0/1848 [00:00<?, ?it/s]"
      ]
     },
     "metadata": {},
     "output_type": "display_data"
    },
    {
     "data": {
      "application/vnd.jupyter.widget-view+json": {
       "model_id": "28c820d83b6c42629843d70fff4353ef",
       "version_major": 2,
       "version_minor": 0
      },
      "text/plain": [
       "  0%|          | 0/1846 [00:00<?, ?it/s]"
      ]
     },
     "metadata": {},
     "output_type": "display_data"
    },
    {
     "name": "stdout",
     "output_type": "stream",
     "text": [
      "Finished building GRN for Mo_1\n"
     ]
    }
   ],
   "source": [
    "# Model TF ~ G for every cluster\n",
    "cluster_grns = {}\n",
    "for cluster in adata.obs[cluster_key].cat.categories:\n",
    "    print(f\"Building GRN for {cluster}\")\n",
    "    adata_sub = adata[adata.obs[cluster_key] == cluster].copy()\n",
    "    net = co.Net(\n",
    "        gene_expression_matrix=adata_sub.to_df(), # Input gene expression matrix as data frame\n",
    "        TFinfo_matrix=base_grn, # Input base GRN\n",
    "        verbose=True\n",
    "    )\n",
    "    net.fit_All_genes(\n",
    "        bagging_number=bagging_number,\n",
    "        alpha=alpha,\n",
    "        scaling=False,\n",
    "        verbose=True\n",
    "    )\n",
    "    net.updateLinkList(verbose=True)\n",
    "    inference_result = net.linkList.copy()\n",
    "    cluster_grns[cluster] = inference_result\n",
    "    print(f\"Finished building GRN for {cluster}\")"
   ]
  },
  {
   "cell_type": "code",
   "execution_count": 20,
   "metadata": {},
   "outputs": [],
   "source": [
    "# Extract grn\n",
    "grn = pd.concat([v.assign(cluster=k) for k, v in cluster_grns.items()])\n",
    "grn = grn.dropna()[['source', 'target', 'coef_mean', 'p', 'cluster']]\n",
    "grn = grn.rename(columns={'coef_mean': 'score', 'p': 'pval'})\n",
    "grn = grn.rename(columns={'source': 'tf', 'target': 'gene'})\n",
    "grn = grn.sort_values(['tf', 'score'], ascending=[True, False])"
   ]
  },
  {
   "cell_type": "code",
   "execution_count": 23,
   "metadata": {},
   "outputs": [],
   "source": [
    "# Write\n",
    "grn.to_csv(path_out, index=False)"
   ]
  },
  {
   "cell_type": "markdown",
   "metadata": {},
   "source": [
    "# DONE!"
   ]
  },
  {
   "cell_type": "markdown",
   "metadata": {},
   "source": [
    "---"
   ]
  }
 ],
 "metadata": {
  "kernelspec": {
   "display_name": "Python 3.10 test_celloracle",
   "language": "python",
   "name": "test_scenicplus-py310"
  }
 },
 "nbformat": 4,
 "nbformat_minor": 2
}
