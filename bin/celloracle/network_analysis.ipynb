{
 "cells": [
  {
   "cell_type": "code",
   "execution_count": 104,
   "metadata": {},
   "outputs": [
    {
     "data": {
      "text/plain": [
       "'0.16.0'"
      ]
     },
     "execution_count": 104,
     "metadata": {},
     "output_type": "execute_result"
    }
   ],
   "source": [
    "# 0. Import\n",
    "\n",
    "import os\n",
    "import sys\n",
    "\n",
    "import matplotlib.pyplot as plt\n",
    "import numpy as np\n",
    "import pandas as pd\n",
    "import scanpy as sc\n",
    "import seaborn as sns\n",
    "\n",
    "import celloracle as co\n",
    "co.__version__"
   ]
  },
  {
   "cell_type": "code",
   "execution_count": 105,
   "metadata": {},
   "outputs": [],
   "source": [
    "# visualization settings\n",
    "%config InlineBackend.figure_format = 'retina'\n",
    "%matplotlib inline\n",
    "\n",
    "plt.rcParams['figure.figsize'] = [6, 4.5]\n",
    "plt.rcParams[\"savefig.dpi\"] = 300"
   ]
  },
  {
   "cell_type": "markdown",
   "metadata": {},
   "source": [
    "# My inference"
   ]
  },
  {
   "cell_type": "code",
   "execution_count": 297,
   "metadata": {},
   "outputs": [],
   "source": [
    "#path_grn = \"/cellar/users/aklie/data/datasets/paul15/analysis/celloracle/grn.csv\"\n",
    "path_grn = \"/cellar/users/aklie/data/datasets/paul15/analysis/celloracle/grn_MEP_0_v6.csv\""
   ]
  },
  {
   "cell_type": "code",
   "execution_count": 298,
   "metadata": {},
   "outputs": [
    {
     "data": {
      "text/html": [
       "<div>\n",
       "<style scoped>\n",
       "    .dataframe tbody tr th:only-of-type {\n",
       "        vertical-align: middle;\n",
       "    }\n",
       "\n",
       "    .dataframe tbody tr th {\n",
       "        vertical-align: top;\n",
       "    }\n",
       "\n",
       "    .dataframe thead th {\n",
       "        text-align: right;\n",
       "    }\n",
       "</style>\n",
       "<table border=\"1\" class=\"dataframe\">\n",
       "  <thead>\n",
       "    <tr style=\"text-align: right;\">\n",
       "      <th></th>\n",
       "      <th>tf</th>\n",
       "      <th>gene</th>\n",
       "      <th>score</th>\n",
       "      <th>pval</th>\n",
       "      <th>cluster</th>\n",
       "    </tr>\n",
       "  </thead>\n",
       "  <tbody>\n",
       "    <tr>\n",
       "      <th>0</th>\n",
       "      <td>0910001L09Rik</td>\n",
       "      <td>Spi1</td>\n",
       "      <td>-0.002040</td>\n",
       "      <td>3.042956e-02</td>\n",
       "      <td>MEP_0</td>\n",
       "    </tr>\n",
       "    <tr>\n",
       "      <th>1</th>\n",
       "      <td>1100001G20Rik</td>\n",
       "      <td>Irf8</td>\n",
       "      <td>0.002184</td>\n",
       "      <td>1.339544e-02</td>\n",
       "      <td>MEP_0</td>\n",
       "    </tr>\n",
       "    <tr>\n",
       "      <th>2</th>\n",
       "      <td>2310014H01Rik</td>\n",
       "      <td>Spi1</td>\n",
       "      <td>0.005813</td>\n",
       "      <td>1.328686e-04</td>\n",
       "      <td>MEP_0</td>\n",
       "    </tr>\n",
       "    <tr>\n",
       "      <th>3</th>\n",
       "      <td>5730469M10Rik</td>\n",
       "      <td>Klf1</td>\n",
       "      <td>0.021323</td>\n",
       "      <td>3.999462e-08</td>\n",
       "      <td>MEP_0</td>\n",
       "    </tr>\n",
       "    <tr>\n",
       "      <th>4</th>\n",
       "      <td>Abcd1</td>\n",
       "      <td>Spi1</td>\n",
       "      <td>-0.004447</td>\n",
       "      <td>6.231667e-05</td>\n",
       "      <td>MEP_0</td>\n",
       "    </tr>\n",
       "    <tr>\n",
       "      <th>...</th>\n",
       "      <td>...</td>\n",
       "      <td>...</td>\n",
       "      <td>...</td>\n",
       "      <td>...</td>\n",
       "      <td>...</td>\n",
       "    </tr>\n",
       "    <tr>\n",
       "      <th>73768</th>\n",
       "      <td>Zfp238</td>\n",
       "      <td>Lig1</td>\n",
       "      <td>-0.015066</td>\n",
       "      <td>4.030942e-07</td>\n",
       "      <td>MEP_0</td>\n",
       "    </tr>\n",
       "    <tr>\n",
       "      <th>73769</th>\n",
       "      <td>Zfp238</td>\n",
       "      <td>Igfbp4</td>\n",
       "      <td>-0.015569</td>\n",
       "      <td>1.163055e-06</td>\n",
       "      <td>MEP_0</td>\n",
       "    </tr>\n",
       "    <tr>\n",
       "      <th>73770</th>\n",
       "      <td>Zfp238</td>\n",
       "      <td>Sh3bgrl3</td>\n",
       "      <td>-0.015633</td>\n",
       "      <td>1.577574e-04</td>\n",
       "      <td>MEP_0</td>\n",
       "    </tr>\n",
       "    <tr>\n",
       "      <th>73771</th>\n",
       "      <td>Zfp238</td>\n",
       "      <td>Wbp2</td>\n",
       "      <td>-0.016524</td>\n",
       "      <td>5.294441e-06</td>\n",
       "      <td>MEP_0</td>\n",
       "    </tr>\n",
       "    <tr>\n",
       "      <th>73772</th>\n",
       "      <td>Zfp238</td>\n",
       "      <td>Nup85</td>\n",
       "      <td>-0.018349</td>\n",
       "      <td>4.653590e-09</td>\n",
       "      <td>MEP_0</td>\n",
       "    </tr>\n",
       "  </tbody>\n",
       "</table>\n",
       "<p>73773 rows × 5 columns</p>\n",
       "</div>"
      ],
      "text/plain": [
       "                  tf      gene     score          pval cluster\n",
       "0      0910001L09Rik      Spi1 -0.002040  3.042956e-02   MEP_0\n",
       "1      1100001G20Rik      Irf8  0.002184  1.339544e-02   MEP_0\n",
       "2      2310014H01Rik      Spi1  0.005813  1.328686e-04   MEP_0\n",
       "3      5730469M10Rik      Klf1  0.021323  3.999462e-08   MEP_0\n",
       "4              Abcd1      Spi1 -0.004447  6.231667e-05   MEP_0\n",
       "...              ...       ...       ...           ...     ...\n",
       "73768         Zfp238      Lig1 -0.015066  4.030942e-07   MEP_0\n",
       "73769         Zfp238    Igfbp4 -0.015569  1.163055e-06   MEP_0\n",
       "73770         Zfp238  Sh3bgrl3 -0.015633  1.577574e-04   MEP_0\n",
       "73771         Zfp238      Wbp2 -0.016524  5.294441e-06   MEP_0\n",
       "73772         Zfp238     Nup85 -0.018349  4.653590e-09   MEP_0\n",
       "\n",
       "[73773 rows x 5 columns]"
      ]
     },
     "execution_count": 298,
     "metadata": {},
     "output_type": "execute_result"
    }
   ],
   "source": [
    "grn = pd.read_csv(path_grn)\n",
    "grn"
   ]
  },
  {
   "cell_type": "code",
   "execution_count": 299,
   "metadata": {},
   "outputs": [],
   "source": [
    "# Create a dict of dataframes for each cluster\n",
    "grn_dict = {}\n",
    "for cluster in grn[\"cluster\"].unique():\n",
    "    curr_grn = grn[grn[\"cluster\"] == cluster]\n",
    "    curr_grn = curr_grn.rename(columns={\"score\": \"coef_mean\", \"pval\": \"p\", \"tf\": \"source\", \"gene\": \"target\"})\n",
    "    curr_grn[\"coef_abs\"] = np.abs(curr_grn[\"coef_mean\"])\n",
    "    grn_dict[cluster] = curr_grn\n",
    "my_links = co.Links(name=\"louvain_annot\", links_dict=grn_dict)"
   ]
  },
  {
   "cell_type": "code",
   "execution_count": 300,
   "metadata": {},
   "outputs": [],
   "source": [
    "my_links.filter_links(p=0.001, weight=\"coef_abs\", threshold_number=4000)"
   ]
  },
  {
   "cell_type": "code",
   "execution_count": 301,
   "metadata": {},
   "outputs": [],
   "source": [
    "my_links.get_network_score()"
   ]
  },
  {
   "cell_type": "code",
   "execution_count": 302,
   "metadata": {},
   "outputs": [],
   "source": [
    "my_links_scores = my_links.merged_score"
   ]
  },
  {
   "cell_type": "markdown",
   "metadata": {},
   "source": [
    "# Tutorial links object"
   ]
  },
  {
   "cell_type": "code",
   "execution_count": 303,
   "metadata": {},
   "outputs": [],
   "source": [
    "links = co.data.load_tutorial_links_object()"
   ]
  },
  {
   "cell_type": "code",
   "execution_count": 304,
   "metadata": {},
   "outputs": [],
   "source": [
    "links.filter_links(p=0.001, weight=\"coef_abs\", threshold_number=2000)"
   ]
  },
  {
   "cell_type": "code",
   "execution_count": 305,
   "metadata": {},
   "outputs": [],
   "source": [
    "links.get_network_score()"
   ]
  },
  {
   "cell_type": "code",
   "execution_count": 306,
   "metadata": {},
   "outputs": [],
   "source": [
    "links_scores = links.merged_score"
   ]
  },
  {
   "cell_type": "markdown",
   "metadata": {},
   "source": [
    "# Compare node scores"
   ]
  },
  {
   "cell_type": "code",
   "execution_count": 307,
   "metadata": {},
   "outputs": [
    {
     "name": "stdout",
     "output_type": "stream",
     "text": [
      "Ery_0 overlap: 0\n",
      "Ery_1 overlap: 0\n",
      "Ery_2 overlap: 0\n",
      "Ery_3 overlap: 0\n",
      "Ery_4 overlap: 0\n",
      "Ery_5 overlap: 0\n",
      "Ery_6 overlap: 0\n",
      "Ery_7 overlap: 0\n",
      "Ery_8 overlap: 0\n",
      "Ery_9 overlap: 0\n",
      "GMP_0 overlap: 0\n",
      "GMP_1 overlap: 0\n",
      "GMP_2 overlap: 0\n",
      "GMPl_0 overlap: 0\n",
      "GMPl_1 overlap: 0\n",
      "Gran_0 overlap: 0\n",
      "Gran_1 overlap: 0\n",
      "Gran_2 overlap: 0\n",
      "Gran_3 overlap: 0\n",
      "MEP_0 overlap: 7\n",
      "Mk_0 overlap: 0\n",
      "Mo_0 overlap: 0\n",
      "Mo_1 overlap: 0\n",
      "Mo_2 overlap: 0\n"
     ]
    }
   ],
   "source": [
    "# For each cluster, take top 10 nodes, and print out the overlap of my_links and links\n",
    "metric = \"degree_all\"\n",
    "for cluster in links_scores[\"cluster\"].unique():\n",
    "    links_top10 = links_scores[links_scores[\"cluster\"] == cluster].sort_values(metric, ascending=False).head(10)\n",
    "    my_links_top10 = my_links_scores[my_links_scores[\"cluster\"] == cluster].sort_values(metric, ascending=False).head(10)\n",
    "    overlap = len(set(links_top10.index).intersection(set(my_links_top10.index)))\n",
    "    print(f\"{cluster} overlap: {overlap}\")"
   ]
  },
  {
   "cell_type": "markdown",
   "metadata": {},
   "source": [
    "# Compare actual links called"
   ]
  },
  {
   "cell_type": "code",
   "execution_count": 308,
   "metadata": {},
   "outputs": [],
   "source": [
    "tf = \"E2f4\"\n",
    "cluster = \"MEP_0\""
   ]
  },
  {
   "cell_type": "code",
   "execution_count": 309,
   "metadata": {},
   "outputs": [
    {
     "data": {
      "text/html": [
       "<div>\n",
       "<style scoped>\n",
       "    .dataframe tbody tr th:only-of-type {\n",
       "        vertical-align: middle;\n",
       "    }\n",
       "\n",
       "    .dataframe tbody tr th {\n",
       "        vertical-align: top;\n",
       "    }\n",
       "\n",
       "    .dataframe thead th {\n",
       "        text-align: right;\n",
       "    }\n",
       "</style>\n",
       "<table border=\"1\" class=\"dataframe\">\n",
       "  <thead>\n",
       "    <tr style=\"text-align: right;\">\n",
       "      <th></th>\n",
       "      <th>source</th>\n",
       "      <th>target</th>\n",
       "      <th>coef_mean</th>\n",
       "      <th>p</th>\n",
       "      <th>cluster</th>\n",
       "      <th>coef_abs</th>\n",
       "    </tr>\n",
       "  </thead>\n",
       "  <tbody>\n",
       "    <tr>\n",
       "      <th>7580</th>\n",
       "      <td>E2f4</td>\n",
       "      <td>Gnai2</td>\n",
       "      <td>0.072412</td>\n",
       "      <td>1.940608e-13</td>\n",
       "      <td>MEP_0</td>\n",
       "      <td>0.072412</td>\n",
       "    </tr>\n",
       "    <tr>\n",
       "      <th>7581</th>\n",
       "      <td>E2f4</td>\n",
       "      <td>Prdx6</td>\n",
       "      <td>0.070796</td>\n",
       "      <td>2.233662e-13</td>\n",
       "      <td>MEP_0</td>\n",
       "      <td>0.070796</td>\n",
       "    </tr>\n",
       "    <tr>\n",
       "      <th>7582</th>\n",
       "      <td>E2f4</td>\n",
       "      <td>H2-K1</td>\n",
       "      <td>0.062146</td>\n",
       "      <td>1.030789e-10</td>\n",
       "      <td>MEP_0</td>\n",
       "      <td>0.062146</td>\n",
       "    </tr>\n",
       "    <tr>\n",
       "      <th>7583</th>\n",
       "      <td>E2f4</td>\n",
       "      <td>Snrpb</td>\n",
       "      <td>0.060433</td>\n",
       "      <td>4.515115e-13</td>\n",
       "      <td>MEP_0</td>\n",
       "      <td>0.060433</td>\n",
       "    </tr>\n",
       "    <tr>\n",
       "      <th>7584</th>\n",
       "      <td>E2f4</td>\n",
       "      <td>Eif3c</td>\n",
       "      <td>0.057441</td>\n",
       "      <td>6.731859e-13</td>\n",
       "      <td>MEP_0</td>\n",
       "      <td>0.057441</td>\n",
       "    </tr>\n",
       "    <tr>\n",
       "      <th>7585</th>\n",
       "      <td>E2f4</td>\n",
       "      <td>Aqp1</td>\n",
       "      <td>0.056434</td>\n",
       "      <td>1.110846e-09</td>\n",
       "      <td>MEP_0</td>\n",
       "      <td>0.056434</td>\n",
       "    </tr>\n",
       "    <tr>\n",
       "      <th>9288</th>\n",
       "      <td>E2f4</td>\n",
       "      <td>Txnip</td>\n",
       "      <td>-0.056241</td>\n",
       "      <td>6.175535e-10</td>\n",
       "      <td>MEP_0</td>\n",
       "      <td>0.056241</td>\n",
       "    </tr>\n",
       "    <tr>\n",
       "      <th>7586</th>\n",
       "      <td>E2f4</td>\n",
       "      <td>Eif3b</td>\n",
       "      <td>0.056041</td>\n",
       "      <td>1.273394e-09</td>\n",
       "      <td>MEP_0</td>\n",
       "      <td>0.056041</td>\n",
       "    </tr>\n",
       "    <tr>\n",
       "      <th>7587</th>\n",
       "      <td>E2f4</td>\n",
       "      <td>Mt1</td>\n",
       "      <td>0.049267</td>\n",
       "      <td>3.153427e-10</td>\n",
       "      <td>MEP_0</td>\n",
       "      <td>0.049267</td>\n",
       "    </tr>\n",
       "    <tr>\n",
       "      <th>7588</th>\n",
       "      <td>E2f4</td>\n",
       "      <td>Rpl23</td>\n",
       "      <td>0.048255</td>\n",
       "      <td>5.540771e-07</td>\n",
       "      <td>MEP_0</td>\n",
       "      <td>0.048255</td>\n",
       "    </tr>\n",
       "  </tbody>\n",
       "</table>\n",
       "</div>"
      ],
      "text/plain": [
       "     source target  coef_mean             p cluster  coef_abs\n",
       "7580   E2f4  Gnai2   0.072412  1.940608e-13   MEP_0  0.072412\n",
       "7581   E2f4  Prdx6   0.070796  2.233662e-13   MEP_0  0.070796\n",
       "7582   E2f4  H2-K1   0.062146  1.030789e-10   MEP_0  0.062146\n",
       "7583   E2f4  Snrpb   0.060433  4.515115e-13   MEP_0  0.060433\n",
       "7584   E2f4  Eif3c   0.057441  6.731859e-13   MEP_0  0.057441\n",
       "7585   E2f4   Aqp1   0.056434  1.110846e-09   MEP_0  0.056434\n",
       "9288   E2f4  Txnip  -0.056241  6.175535e-10   MEP_0  0.056241\n",
       "7586   E2f4  Eif3b   0.056041  1.273394e-09   MEP_0  0.056041\n",
       "7587   E2f4    Mt1   0.049267  3.153427e-10   MEP_0  0.049267\n",
       "7588   E2f4  Rpl23   0.048255  5.540771e-07   MEP_0  0.048255"
      ]
     },
     "execution_count": 309,
     "metadata": {},
     "output_type": "execute_result"
    }
   ],
   "source": [
    "my_links_df = my_links.filtered_links[cluster]\n",
    "my_regulon = my_links_df[my_links_df[\"source\"] == tf]\n",
    "my_regulon.sort_values(\"coef_abs\", ascending=False).iloc[:10]"
   ]
  },
  {
   "cell_type": "code",
   "execution_count": 310,
   "metadata": {},
   "outputs": [
    {
     "name": "stdout",
     "output_type": "stream",
     "text": [
      "Number of positively regulated genes: 142\n",
      "Number of negatively regulated genes: 30\n"
     ]
    }
   ],
   "source": [
    "my_positively_regulated_genes = my_regulon[my_regulon[\"coef_mean\"] > 0]\n",
    "my_negatively_regulated_genes = my_regulon[my_regulon[\"coef_mean\"] < 0]\n",
    "print(f\"Number of positively regulated genes: {len(my_positively_regulated_genes)}\")\n",
    "print(f\"Number of negatively regulated genes: {len(my_negatively_regulated_genes)}\")"
   ]
  },
  {
   "cell_type": "code",
   "execution_count": 311,
   "metadata": {},
   "outputs": [
    {
     "data": {
      "text/html": [
       "<div>\n",
       "<style scoped>\n",
       "    .dataframe tbody tr th:only-of-type {\n",
       "        vertical-align: middle;\n",
       "    }\n",
       "\n",
       "    .dataframe tbody tr th {\n",
       "        vertical-align: top;\n",
       "    }\n",
       "\n",
       "    .dataframe thead th {\n",
       "        text-align: right;\n",
       "    }\n",
       "</style>\n",
       "<table border=\"1\" class=\"dataframe\">\n",
       "  <thead>\n",
       "    <tr style=\"text-align: right;\">\n",
       "      <th></th>\n",
       "      <th>source</th>\n",
       "      <th>target</th>\n",
       "      <th>coef_mean</th>\n",
       "      <th>coef_abs</th>\n",
       "      <th>p</th>\n",
       "      <th>-logp</th>\n",
       "    </tr>\n",
       "  </thead>\n",
       "  <tbody>\n",
       "    <tr>\n",
       "      <th>51962</th>\n",
       "      <td>E2f4</td>\n",
       "      <td>Prdx6</td>\n",
       "      <td>0.110142</td>\n",
       "      <td>0.110142</td>\n",
       "      <td>8.462215e-07</td>\n",
       "      <td>6.072516</td>\n",
       "    </tr>\n",
       "    <tr>\n",
       "      <th>27924</th>\n",
       "      <td>E2f4</td>\n",
       "      <td>Gnai2</td>\n",
       "      <td>0.098185</td>\n",
       "      <td>0.098185</td>\n",
       "      <td>5.801543e-15</td>\n",
       "      <td>14.236456</td>\n",
       "    </tr>\n",
       "    <tr>\n",
       "      <th>29799</th>\n",
       "      <td>E2f4</td>\n",
       "      <td>H2-K1</td>\n",
       "      <td>0.097043</td>\n",
       "      <td>0.097043</td>\n",
       "      <td>1.326578e-09</td>\n",
       "      <td>8.877267</td>\n",
       "    </tr>\n",
       "    <tr>\n",
       "      <th>62869</th>\n",
       "      <td>E2f4</td>\n",
       "      <td>Snrpb</td>\n",
       "      <td>0.091894</td>\n",
       "      <td>0.091894</td>\n",
       "      <td>3.354930e-13</td>\n",
       "      <td>12.474317</td>\n",
       "    </tr>\n",
       "    <tr>\n",
       "      <th>5563</th>\n",
       "      <td>E2f4</td>\n",
       "      <td>Aqp1</td>\n",
       "      <td>0.091122</td>\n",
       "      <td>0.091122</td>\n",
       "      <td>2.044744e-08</td>\n",
       "      <td>7.689361</td>\n",
       "    </tr>\n",
       "    <tr>\n",
       "      <th>21037</th>\n",
       "      <td>E2f4</td>\n",
       "      <td>Eif3b</td>\n",
       "      <td>0.090344</td>\n",
       "      <td>0.090344</td>\n",
       "      <td>1.045782e-09</td>\n",
       "      <td>8.980559</td>\n",
       "    </tr>\n",
       "    <tr>\n",
       "      <th>44058</th>\n",
       "      <td>E2f4</td>\n",
       "      <td>Ndufc2</td>\n",
       "      <td>0.084907</td>\n",
       "      <td>0.084907</td>\n",
       "      <td>4.239423e-10</td>\n",
       "      <td>9.372693</td>\n",
       "    </tr>\n",
       "    <tr>\n",
       "      <th>70900</th>\n",
       "      <td>E2f4</td>\n",
       "      <td>Txnip</td>\n",
       "      <td>-0.083561</td>\n",
       "      <td>0.083561</td>\n",
       "      <td>1.750257e-09</td>\n",
       "      <td>8.756898</td>\n",
       "    </tr>\n",
       "    <tr>\n",
       "      <th>54855</th>\n",
       "      <td>E2f4</td>\n",
       "      <td>Rac2</td>\n",
       "      <td>0.080631</td>\n",
       "      <td>0.080631</td>\n",
       "      <td>4.375286e-10</td>\n",
       "      <td>9.358994</td>\n",
       "    </tr>\n",
       "    <tr>\n",
       "      <th>44043</th>\n",
       "      <td>E2f4</td>\n",
       "      <td>Ndufb9</td>\n",
       "      <td>0.080330</td>\n",
       "      <td>0.080330</td>\n",
       "      <td>3.559827e-13</td>\n",
       "      <td>12.448571</td>\n",
       "    </tr>\n",
       "  </tbody>\n",
       "</table>\n",
       "</div>"
      ],
      "text/plain": [
       "      source  target  coef_mean  coef_abs             p      -logp\n",
       "51962   E2f4   Prdx6   0.110142  0.110142  8.462215e-07   6.072516\n",
       "27924   E2f4   Gnai2   0.098185  0.098185  5.801543e-15  14.236456\n",
       "29799   E2f4   H2-K1   0.097043  0.097043  1.326578e-09   8.877267\n",
       "62869   E2f4   Snrpb   0.091894  0.091894  3.354930e-13  12.474317\n",
       "5563    E2f4    Aqp1   0.091122  0.091122  2.044744e-08   7.689361\n",
       "21037   E2f4   Eif3b   0.090344  0.090344  1.045782e-09   8.980559\n",
       "44058   E2f4  Ndufc2   0.084907  0.084907  4.239423e-10   9.372693\n",
       "70900   E2f4   Txnip  -0.083561  0.083561  1.750257e-09   8.756898\n",
       "54855   E2f4    Rac2   0.080631  0.080631  4.375286e-10   9.358994\n",
       "44043   E2f4  Ndufb9   0.080330  0.080330  3.559827e-13  12.448571"
      ]
     },
     "execution_count": 311,
     "metadata": {},
     "output_type": "execute_result"
    }
   ],
   "source": [
    "links_df = links.filtered_links[cluster]\n",
    "regulon = links_df[links_df[\"source\"] == tf]\n",
    "regulon.sort_values(\"coef_abs\", ascending=False).iloc[:10]"
   ]
  },
  {
   "cell_type": "code",
   "execution_count": 312,
   "metadata": {},
   "outputs": [
    {
     "name": "stdout",
     "output_type": "stream",
     "text": [
      "Number of positively regulated genes: 130\n",
      "Number of negatively regulated genes: 26\n"
     ]
    }
   ],
   "source": [
    "positively_regulated_genes = regulon[regulon[\"coef_mean\"] > 0]\n",
    "negatively_regulated_genes = regulon[regulon[\"coef_mean\"] < 0]\n",
    "print(f\"Number of positively regulated genes: {len(positively_regulated_genes)}\")\n",
    "print(f\"Number of negatively regulated genes: {len(negatively_regulated_genes)}\")"
   ]
  },
  {
   "cell_type": "code",
   "execution_count": 313,
   "metadata": {},
   "outputs": [
    {
     "data": {
      "text/plain": [
       "120"
      ]
     },
     "execution_count": 313,
     "metadata": {},
     "output_type": "execute_result"
    }
   ],
   "source": [
    "# Check the overlap of each\n",
    "positively_regulated_genes[\"target\"].isin(my_positively_regulated_genes[\"target\"]).sum()"
   ]
  },
  {
   "cell_type": "code",
   "execution_count": 314,
   "metadata": {},
   "outputs": [
    {
     "data": {
      "text/plain": [
       "24"
      ]
     },
     "execution_count": 314,
     "metadata": {},
     "output_type": "execute_result"
    }
   ],
   "source": [
    "negatively_regulated_genes[\"target\"].isin(my_negatively_regulated_genes[\"target\"]).sum()"
   ]
  },
  {
   "cell_type": "markdown",
   "metadata": {},
   "source": [
    "# DONE!"
   ]
  },
  {
   "cell_type": "markdown",
   "metadata": {},
   "source": [
    "---"
   ]
  }
 ],
 "metadata": {
  "kernelspec": {
   "display_name": "Python 3.10 test_celloracle",
   "language": "python",
   "name": "test_scenicplus-py310"
  },
  "language_info": {
   "codemirror_mode": {
    "name": "ipython",
    "version": 3
   },
   "file_extension": ".py",
   "mimetype": "text/x-python",
   "name": "python",
   "nbconvert_exporter": "python",
   "pygments_lexer": "ipython3",
   "version": "3.10.8"
  }
 },
 "nbformat": 4,
 "nbformat_minor": 2
}
